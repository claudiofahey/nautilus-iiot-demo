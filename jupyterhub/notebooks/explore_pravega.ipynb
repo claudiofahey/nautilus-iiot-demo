{
 "cells": [
  {
   "cell_type": "code",
   "execution_count": 20,
   "metadata": {},
   "outputs": [],
   "source": [
    "import pyspark\n",
    "from pyspark.sql import SparkSession\n",
    "import os\n",
    "from pyspark.sql import SparkSession, Window\n",
    "from pyspark.sql import functions as func\n",
    "from pyspark.sql.functions import pandas_udf, PandasUDFType, udf\n",
    "from PIL import Image, ImageDraw, ImageFont\n",
    "import io\n",
    "import math\n",
    "import pandas as pd\n",
    "from pyspark.ml.feature import PCA, VectorAssembler, VectorSizeHint, StandardScaler\n",
    "from pyspark.ml.linalg import Vectors, VectorUDT\n",
    "from pyspark.ml.clustering import KMeans\n",
    "from pyspark.ml import Pipeline\n",
    "from pyspark.sql import SparkSession, Window\n",
    "from pyspark.sql.functions import from_json, decode, monotonically_increasing_id\n",
    "from pyspark.sql.functions import pandas_udf, PandasUDFType\n",
    "from pyspark.sql import functions as func\n"
   ]
  },
  {
   "cell_type": "code",
   "execution_count": 2,
   "metadata": {},
   "outputs": [],
   "source": [
    "pravega_jars = [\n",
    "    'pravega-connectors-spark-0.4.0-SNAPSHOT.jar', \n",
    "    'pravega-keycloak-credentials-0.4.0-2030.d99411b-0.0.1-020.26736d2-shadow.jar']\n",
    "spark_jars_conf = ','.join([os.path.join('/usr/local/share/java', j) for j in pravega_jars])\n",
    "spark = (SparkSession\n",
    "             .builder\n",
    "             #.appName('test1')\n",
    "             .config('spark.jars', spark_jars_conf)\n",
    "             .getOrCreate()\n",
    "             )\n",
    "spark.conf.set('spark.sql.shuffle.partitions', '1')\n",
    "spark.conf.set('spark.sql.execution.arrow.enabled', 'true')"
   ]
  },
  {
   "cell_type": "code",
   "execution_count": 13,
   "metadata": {},
   "outputs": [],
   "source": [
    "#controller = 'tcp://nautilus-pravega-controller.nautilus-pravega.svc.cluster.local:9090'\n",
    "controller = 'tcp://127.0.0.1:9090'\n",
    "scope = 'examples'\n",
    "# Read a batch dataframe.\n",
    "df0 = (spark\n",
    "      .read\n",
    "      .format(\"pravega\")\n",
    "      .option(\"controller\", controller)\n",
    "      .option(\"scope\", scope)\n",
    "#       .option(\"stream\", \"ForceStrokeStream\")\n",
    "       .option('stream', 'SegStream')\n",
    "#       .option(\"encoding\", \"chunked_v1\")\n",
    "      .load()\n",
    "      )"
   ]
  },
  {
   "cell_type": "code",
   "execution_count": 23,
   "metadata": {},
   "outputs": [],
   "source": [
    "df1 = df0.limit(10000).cache()"
   ]
  },
  {
   "cell_type": "code",
   "execution_count": 24,
   "metadata": {},
   "outputs": [
    {
     "name": "stdout",
     "output_type": "stream",
     "text": [
      "+--------------------+--------+---------+----------+------+\n",
      "|               event|   scope|   stream|segment_id|offset|\n",
      "+--------------------+--------+---------+----------+------+\n",
      "|[7B 22 70 75 6E 6...|examples|SegStream|         0|     0|\n",
      "|[7B 22 70 75 6E 6...|examples|SegStream|         0|    88|\n",
      "|[7B 22 70 75 6E 6...|examples|SegStream|         0|   183|\n",
      "|[7B 22 70 75 6E 6...|examples|SegStream|         0|   278|\n",
      "|[7B 22 70 75 6E 6...|examples|SegStream|         0|   366|\n",
      "|[7B 22 70 75 6E 6...|examples|SegStream|         0|   455|\n",
      "|[7B 22 70 75 6E 6...|examples|SegStream|         0|   543|\n",
      "|[7B 22 70 75 6E 6...|examples|SegStream|         0|   632|\n",
      "|[7B 22 70 75 6E 6...|examples|SegStream|         0|   721|\n",
      "|[7B 22 70 75 6E 6...|examples|SegStream|         0|   809|\n",
      "|[7B 22 70 75 6E 6...|examples|SegStream|         0|   898|\n",
      "|[7B 22 70 75 6E 6...|examples|SegStream|         0|   986|\n",
      "|[7B 22 70 75 6E 6...|examples|SegStream|         0|  1075|\n",
      "|[7B 22 70 75 6E 6...|examples|SegStream|         0|  1170|\n",
      "|[7B 22 70 75 6E 6...|examples|SegStream|         0|  1259|\n",
      "|[7B 22 70 75 6E 6...|examples|SegStream|         0|  1348|\n",
      "|[7B 22 70 75 6E 6...|examples|SegStream|         0|  1443|\n",
      "|[7B 22 70 75 6E 6...|examples|SegStream|         0|  1538|\n",
      "|[7B 22 70 75 6E 6...|examples|SegStream|         0|  1627|\n",
      "|[7B 22 70 75 6E 6...|examples|SegStream|         0|  1722|\n",
      "+--------------------+--------+---------+----------+------+\n",
      "only showing top 20 rows\n",
      "\n"
     ]
    }
   ],
   "source": [
    "df1.show()"
   ]
  },
  {
   "cell_type": "code",
   "execution_count": 25,
   "metadata": {},
   "outputs": [
    {
     "name": "stderr",
     "output_type": "stream",
     "text": [
      "/opt/conda/lib/python3.7/site-packages/pyarrow/__init__.py:152: UserWarning: pyarrow.open_stream is deprecated, please use pyarrow.ipc.open_stream\n",
      "  warnings.warn(\"pyarrow.open_stream is deprecated, please use \"\n"
     ]
    },
    {
     "data": {
      "text/plain": [
       "0       {\"punchID\":1.0,\"Force\":161969.2174,\"eventTime\"...\n",
       "1       {\"punchID\":1.0,\"Force\":161956.44968000002,\"eve...\n",
       "2       {\"punchID\":1.0,\"Force\":161943.68196000002,\"eve...\n",
       "3       {\"punchID\":1.0,\"Force\":161905.3788,\"eventTime\"...\n",
       "4       {\"punchID\":1.0,\"Force\":161930.91424,\"eventTime...\n",
       "5       {\"punchID\":1.0,\"Force\":161905.3788,\"eventTime\"...\n",
       "6       {\"punchID\":1.0,\"Force\":161918.14652,\"eventTime...\n",
       "7       {\"punchID\":1.0,\"Force\":161918.14652,\"eventTime...\n",
       "8       {\"punchID\":1.0,\"Force\":161905.3788,\"eventTime\"...\n",
       "9       {\"punchID\":1.0,\"Force\":161879.84336,\"eventTime...\n",
       "10      {\"punchID\":1.0,\"Force\":161905.3788,\"eventTime\"...\n",
       "11      {\"punchID\":1.0,\"Force\":161879.84336,\"eventTime...\n",
       "12      {\"punchID\":1.0,\"Force\":161854.30792000002,\"eve...\n",
       "13      {\"punchID\":1.0,\"Force\":161879.84336,\"eventTime...\n",
       "14      {\"punchID\":1.0,\"Force\":161867.07564,\"eventTime...\n",
       "15      {\"punchID\":1.0,\"Force\":161841.54020000002,\"eve...\n",
       "16      {\"punchID\":1.0,\"Force\":161816.00475999998,\"eve...\n",
       "17      {\"punchID\":1.0,\"Force\":161790.46932,\"eventTime...\n",
       "18      {\"punchID\":1.0,\"Force\":161828.77247999999,\"eve...\n",
       "19      {\"punchID\":1.0,\"Force\":161777.7016,\"eventTime\"...\n",
       "20      {\"punchID\":1.0,\"Force\":161752.16616000002,\"eve...\n",
       "21      {\"punchID\":1.0,\"Force\":161752.16616000002,\"eve...\n",
       "22      {\"punchID\":1.0,\"Force\":161777.7016,\"eventTime\"...\n",
       "23      {\"punchID\":1.0,\"Force\":161764.93388,\"eventTime...\n",
       "24      {\"punchID\":1.0,\"Force\":161752.16616000002,\"eve...\n",
       "25      {\"punchID\":1.0,\"Force\":161713.863,\"eventTime\":...\n",
       "26      {\"punchID\":1.0,\"Force\":161739.39844000002,\"eve...\n",
       "27      {\"punchID\":1.0,\"Force\":161675.55984,\"eventTime...\n",
       "28      {\"punchID\":1.0,\"Force\":161675.55984,\"eventTime...\n",
       "29      {\"punchID\":1.0,\"Force\":161637.25668000002,\"eve...\n",
       "                              ...                        \n",
       "9970    {\"punchID\":5.0,\"Force\":135974.13947999998,\"eve...\n",
       "9971    {\"punchID\":5.0,\"Force\":135948.60404,\"eventTime...\n",
       "9972    {\"punchID\":5.0,\"Force\":135884.76544000002,\"eve...\n",
       "9973    {\"punchID\":5.0,\"Force\":135897.53316000002,\"eve...\n",
       "9974    {\"punchID\":5.0,\"Force\":135846.46228,\"eventTime...\n",
       "9975    {\"punchID\":5.0,\"Force\":135833.69456,\"eventTime...\n",
       "9976    {\"punchID\":5.0,\"Force\":135782.62368000002,\"eve...\n",
       "9977    {\"punchID\":5.0,\"Force\":135757.08824,\"eventTime...\n",
       "9978    {\"punchID\":5.0,\"Force\":135731.5528,\"eventTime\"...\n",
       "9979    {\"punchID\":5.0,\"Force\":135718.78508,\"eventTime...\n",
       "9980    {\"punchID\":5.0,\"Force\":135667.71420000002,\"eve...\n",
       "9981    {\"punchID\":5.0,\"Force\":135629.41104,\"eventTime...\n",
       "9982    {\"punchID\":5.0,\"Force\":135616.64332,\"eventTime...\n",
       "9983    {\"punchID\":5.0,\"Force\":135552.80472,\"eventTime...\n",
       "9984    {\"punchID\":5.0,\"Force\":135540.03699999998,\"eve...\n",
       "9985    {\"punchID\":5.0,\"Force\":135527.26928,\"eventTime...\n",
       "9986    {\"punchID\":5.0,\"Force\":135488.96612,\"eventTime...\n",
       "9987    {\"punchID\":5.0,\"Force\":135476.1984,\"eventTime\"...\n",
       "9988    {\"punchID\":5.0,\"Force\":135412.3598,\"eventTime\"...\n",
       "9989    {\"punchID\":5.0,\"Force\":135386.82436,\"eventTime...\n",
       "9990    {\"punchID\":5.0,\"Force\":135361.28892000002,\"eve...\n",
       "9991    {\"punchID\":5.0,\"Force\":135361.28892000002,\"eve...\n",
       "9992    {\"punchID\":5.0,\"Force\":135310.21804,\"eventTime...\n",
       "9993    {\"punchID\":5.0,\"Force\":135297.45032,\"eventTime...\n",
       "9994    {\"punchID\":5.0,\"Force\":135271.91488,\"eventTime...\n",
       "9995    {\"punchID\":5.0,\"Force\":135246.37944000002,\"eve...\n",
       "9996    {\"punchID\":5.0,\"Force\":135182.54084,\"eventTime...\n",
       "9997    {\"punchID\":5.0,\"Force\":135157.0054,\"eventTime\"...\n",
       "9998    {\"punchID\":5.0,\"Force\":135144.23768000002,\"eve...\n",
       "9999    {\"punchID\":5.0,\"Force\":135105.93452,\"eventTime...\n",
       "Name: event_string, Length: 10000, dtype: object"
      ]
     },
     "execution_count": 25,
     "metadata": {},
     "output_type": "execute_result"
    }
   ],
   "source": [
    "df = df1\n",
    "df = df.withColumnRenamed('event', 'raw_event')\n",
    "df = df.select('*', func.decode('raw_event', 'UTF-8').alias('event_string'))\n",
    "df.select('event_string').toPandas()['event_string']"
   ]
  },
  {
   "cell_type": "code",
   "execution_count": 26,
   "metadata": {},
   "outputs": [
    {
     "name": "stdout",
     "output_type": "stream",
     "text": [
      "+--------+---------+----------+------+-------+------------------+--------------------+\n",
      "|   scope|   stream|segment_id|offset|punchID|             Force|           eventTime|\n",
      "+--------+---------+----------+------+-------+------------------+--------------------+\n",
      "|examples|SegStream|         0|     0|    1.0|       161969.2174|51378-04-13 21:41...|\n",
      "|examples|SegStream|         0|    88|    1.0|161956.44968000002|51378-04-13 21:41...|\n",
      "|examples|SegStream|         0|   183|    1.0|161943.68196000002|51378-04-13 21:41...|\n",
      "|examples|SegStream|         0|   278|    1.0|       161905.3788|51378-04-13 21:41...|\n",
      "|examples|SegStream|         0|   366|    1.0|      161930.91424|51378-04-13 21:41...|\n",
      "|examples|SegStream|         0|   455|    1.0|       161905.3788|51378-04-13 21:41...|\n",
      "|examples|SegStream|         0|   543|    1.0|      161918.14652|51378-04-13 21:41...|\n",
      "|examples|SegStream|         0|   632|    1.0|      161918.14652|51378-04-13 21:41...|\n",
      "|examples|SegStream|         0|   721|    1.0|       161905.3788|51378-04-13 21:41...|\n",
      "|examples|SegStream|         0|   809|    1.0|      161879.84336|51378-04-13 21:41...|\n",
      "|examples|SegStream|         0|   898|    1.0|       161905.3788|51378-04-13 21:41...|\n",
      "|examples|SegStream|         0|   986|    1.0|      161879.84336|51378-04-13 21:41...|\n",
      "|examples|SegStream|         0|  1075|    1.0|161854.30792000002|51378-04-13 21:41...|\n",
      "|examples|SegStream|         0|  1170|    1.0|      161879.84336|51378-04-13 21:41...|\n",
      "|examples|SegStream|         0|  1259|    1.0|      161867.07564|51378-04-13 21:41...|\n",
      "|examples|SegStream|         0|  1348|    1.0|161841.54020000002|51378-04-13 21:41...|\n",
      "|examples|SegStream|         0|  1443|    1.0|161816.00475999998|51378-04-13 21:41...|\n",
      "|examples|SegStream|         0|  1538|    1.0|      161790.46932|51378-04-13 21:41...|\n",
      "|examples|SegStream|         0|  1627|    1.0|161828.77247999999|51378-04-13 21:41...|\n",
      "|examples|SegStream|         0|  1722|    1.0|       161777.7016|51378-04-13 21:41...|\n",
      "+--------+---------+----------+------+-------+------------------+--------------------+\n",
      "only showing top 20 rows\n",
      "\n"
     ]
    }
   ],
   "source": [
    "    schema = 'punchID double, Force double, eventTime timestamp'\n",
    "    df = df.select('*', func.from_json('event_string', schema=schema).alias('event'))\n",
    "    df = df.select('*', 'event.*')\n",
    "    df = df.drop('raw_event', 'event_string', 'event')\n",
    "    df.show()"
   ]
  },
  {
   "cell_type": "code",
   "execution_count": 27,
   "metadata": {},
   "outputs": [
    {
     "name": "stdout",
     "output_type": "stream",
     "text": [
      "+-------+--------------------+\n",
      "|punchID|          force_list|\n",
      "+-------+--------------------+\n",
      "|    1.0|[161969.2174,1619...|\n",
      "|    2.0|[161522.347200000...|\n",
      "|    3.0|[161764.93388,161...|\n",
      "|    4.0|[160947.7998,1609...|\n",
      "|    5.0|[162058.591440000...|\n",
      "+-------+--------------------+\n",
      "\n"
     ]
    }
   ],
   "source": [
    "list_to_vector_udf = func.udf(lambda l: Vectors.dense(l), VectorUDT())\n",
    "# Define an ordered window.\n",
    "# Ordering by segment_id and offset maintains the order in which events were written (per routing key).\n",
    "window = Window.partitionBy('punchID').orderBy('segment_id', 'offset')\n",
    "feature_df = df.groupby('punchID').agg(\n",
    "    # Combine Force value from all records into a single vector.\n",
    "    list_to_vector_udf(func.collect_list(df['Force'])).alias('force_list'),\n",
    ")\n",
    "feature_df.show()"
   ]
  },
  {
   "cell_type": "code",
   "execution_count": null,
   "metadata": {},
   "outputs": [],
   "source": []
  }
 ],
 "metadata": {
  "kernelspec": {
   "display_name": "Python 3",
   "language": "python",
   "name": "python3"
  },
  "language_info": {
   "codemirror_mode": {
    "name": "ipython",
    "version": 3
   },
   "file_extension": ".py",
   "mimetype": "text/x-python",
   "name": "python",
   "nbconvert_exporter": "python",
   "pygments_lexer": "ipython3",
   "version": "3.7.3"
  }
 },
 "nbformat": 4,
 "nbformat_minor": 2
}
