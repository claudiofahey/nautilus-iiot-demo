{
 "cells": [
  {
   "cell_type": "code",
   "execution_count": 22,
   "metadata": {},
   "outputs": [],
   "source": [
    "from PIL import Image, ImageDraw, ImageFont\n",
    "import io\n",
    "import math\n",
    "from datetime import datetime, timedelta\n",
    "from time import sleep, time"
   ]
  },
  {
   "cell_type": "code",
   "execution_count": 100,
   "metadata": {},
   "outputs": [],
   "source": [
    "def build_image_bytes(num_bytes, camera, frame_number, timestamp_ms):\n",
    "    timestamp_str = (datetime(1970, 1, 1) + timedelta(milliseconds=timestamp_ms)).strftime(\"%H:%M:%S.%f\")[:-3]\n",
    "    width = math.ceil(math.sqrt(num_bytes / 3))\n",
    "    height = width\n",
    "    font_size = int(min(width, height) * 0.13)\n",
    "    img = Image.new('RGB', (width, height), (25, 25, 240, 0))\n",
    "#     font = ImageFont.truetype('/usr/share/fonts/truetype/freefont/FreeSans.ttf', font_size)\n",
    "    font = ImageFont.truetype('FreeMonoBold.ttf', font_size)\n",
    "    draw = ImageDraw.Draw(img)\n",
    "    draw.text(\n",
    "        (5, 5), \n",
    "        'CAMERA\\n %04d\\nFRAME\\n%05d\\n%s' % (camera, frame_number, timestamp_str), \n",
    "        font=font, \n",
    "        align='center')\n",
    "    out_bytesio = io.BytesIO()\n",
    "    img.save(out_bytesio, format='PNG', compress_level=0)\n",
    "    out_bytes = out_bytesio.getvalue()\n",
    "    return out_bytes"
   ]
  },
  {
   "cell_type": "code",
   "execution_count": 101,
   "metadata": {},
   "outputs": [],
   "source": [
    "in_png_bytes = build_image_bytes(20*1024, 0, 0, int(time() * 1000))"
   ]
  },
  {
   "cell_type": "code",
   "execution_count": 102,
   "metadata": {},
   "outputs": [],
   "source": [
    "in_pil = Image.open(io.BytesIO(in_png_bytes))"
   ]
  },
  {
   "cell_type": "code",
   "execution_count": 103,
   "metadata": {},
   "outputs": [
    {
     "data": {
      "text/plain": [
       "('RGB', (83, 83))"
      ]
     },
     "execution_count": 103,
     "metadata": {},
     "output_type": "execute_result"
    }
   ],
   "source": [
    "in_pil.mode, in_pil.size"
   ]
  },
  {
   "cell_type": "code",
   "execution_count": 104,
   "metadata": {},
   "outputs": [],
   "source": [
    "out_raw_bytes = in_pil.tobytes()"
   ]
  },
  {
   "cell_type": "code",
   "execution_count": 105,
   "metadata": {},
   "outputs": [],
   "source": [
    "out_pil = Image.frombytes(in_pil.mode, in_pil.size, out_raw_bytes)"
   ]
  },
  {
   "cell_type": "code",
   "execution_count": 106,
   "metadata": {},
   "outputs": [
    {
     "data": {
      "image/png": "[encoded data removed]",
      "text/plain": [
       "<PIL.Image.Image image mode=RGB size=83x83 at 0x7F682426DA58>"
      ]
     },
     "execution_count": 106,
     "metadata": {},
     "output_type": "execute_result"
    }
   ],
   "source": [
    "out_pil"
   ]
  },
  {
   "cell_type": "code",
   "execution_count": 109,
   "metadata": {},
   "outputs": [],
   "source": [
    "ms = time() * 1000"
   ]
  },
  {
   "cell_type": "code",
   "execution_count": 110,
   "metadata": {},
   "outputs": [
    {
     "data": {
      "text/plain": [
       "'2019-05-29T03:41:25.343Z'"
      ]
     },
     "execution_count": 110,
     "metadata": {},
     "output_type": "execute_result"
    }
   ],
   "source": [
    "(datetime(1970, 1, 1) + timedelta(milliseconds=ms)).strftime(\"%Y-%m-%dT%H:%M:%S.%f\")[:-3] + 'Z'"
   ]
  },
  {
   "cell_type": "code",
   "execution_count": null,
   "metadata": {},
   "outputs": [],
   "source": []
  }
 ],
 "metadata": {
  "kernelspec": {
   "display_name": "Python 3",
   "language": "python",
   "name": "python3"
  },
  "language_info": {
   "codemirror_mode": {
    "name": "ipython",
    "version": 3
   },
   "file_extension": ".py",
   "mimetype": "text/x-python",
   "name": "python",
   "nbconvert_exporter": "python",
   "pygments_lexer": "ipython3",
   "version": "3.7.3"
  }
 },
 "nbformat": 4,
 "nbformat_minor": 2
}
