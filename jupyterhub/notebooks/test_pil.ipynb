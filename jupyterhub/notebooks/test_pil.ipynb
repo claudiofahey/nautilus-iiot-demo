{
 "cells": [
  {
   "cell_type": "code",
   "execution_count": 1,
   "metadata": {},
   "outputs": [],
   "source": [
    "from PIL import Image, ImageDraw, ImageFont\n",
    "import io\n",
    "import math"
   ]
  },
  {
   "cell_type": "code",
   "execution_count": 4,
   "metadata": {},
   "outputs": [],
   "source": [
    "def build_image_bytes(num_bytes, camera, frame_number):\n",
    "    width = math.ceil(math.sqrt(num_bytes / 3))\n",
    "    height = width\n",
    "    font_size = int(min(width, height) * 0.15)\n",
    "    img = Image.new('RGB', (width, height), (25, 25, 240, 0))\n",
    "    font = ImageFont.truetype('FreeSans.ttf', font_size)\n",
    "    draw = ImageDraw.Draw(img)\n",
    "    draw.text((width//10, height//10), 'FRAME\\n%05d\\nCAMERA\\n %03d' % (frame_number, camera), font=font, align='center')\n",
    "    out_bytesio = io.BytesIO()\n",
    "    img.save(out_bytesio, format='PNG', compress_level=0)\n",
    "    out_bytes = out_bytesio.getvalue()\n",
    "    return out_bytes"
   ]
  },
  {
   "cell_type": "code",
   "execution_count": 8,
   "metadata": {},
   "outputs": [],
   "source": [
    "in_png_bytes = build_image_bytes(20*1024, 0, 0)"
   ]
  },
  {
   "cell_type": "code",
   "execution_count": 9,
   "metadata": {},
   "outputs": [],
   "source": [
    "in_pil = Image.open(io.BytesIO(in_png_bytes))"
   ]
  },
  {
   "cell_type": "code",
   "execution_count": 13,
   "metadata": {},
   "outputs": [
    {
     "data": {
      "text/plain": [
       "('RGB', (83, 83))"
      ]
     },
     "execution_count": 13,
     "metadata": {},
     "output_type": "execute_result"
    }
   ],
   "source": [
    "in_pil.mode, in_pil.size"
   ]
  },
  {
   "cell_type": "code",
   "execution_count": 11,
   "metadata": {},
   "outputs": [],
   "source": [
    "out_raw_bytes = in_pil.tobytes()"
   ]
  },
  {
   "cell_type": "code",
   "execution_count": 14,
   "metadata": {},
   "outputs": [],
   "source": [
    "out_pil = Image.frombytes(in_pil.mode, in_pil.size, out_raw_bytes)"
   ]
  },
  {
   "cell_type": "code",
   "execution_count": 15,
   "metadata": {},
   "outputs": [
    {
     "data": {
      "image/png": "[encoded data removed]",
      "text/plain": [
       "<PIL.Image.Image image mode=RGB size=83x83 at 0x7F68240D0048>"
      ]
     },
     "execution_count": 15,
     "metadata": {},
     "output_type": "execute_result"
    }
   ],
   "source": [
    "out_pil"
   ]
  },
  {
   "cell_type": "code",
   "execution_count": null,
   "metadata": {},
   "outputs": [],
   "source": []
  }
 ],
 "metadata": {
  "kernelspec": {
   "display_name": "Python 3",
   "language": "python",
   "name": "python3"
  },
  "language_info": {
   "codemirror_mode": {
    "name": "ipython",
    "version": 3
   },
   "file_extension": ".py",
   "mimetype": "text/x-python",
   "name": "python",
   "nbconvert_exporter": "python",
   "pygments_lexer": "ipython3",
   "version": "3.7.3"
  }
 },
 "nbformat": 4,
 "nbformat_minor": 2
}
