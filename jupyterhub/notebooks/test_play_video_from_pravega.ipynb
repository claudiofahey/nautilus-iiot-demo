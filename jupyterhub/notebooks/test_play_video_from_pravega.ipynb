{
 "cells": [
  {
   "cell_type": "code",
   "execution_count": 1,
   "metadata": {},
   "outputs": [],
   "source": [
    "%matplotlib inline\n",
    "\n",
    "import IPython\n",
    "import math\n",
    "import numpy as np\n",
    "import pyspark\n",
    "from pyspark.sql import SparkSession\n",
    "from pyspark.sql.functions import pandas_udf, PandasUDFType, concat, udf, from_json, decode, length\n",
    "import os\n",
    "from time import sleep, time"
   ]
  },
  {
   "cell_type": "code",
   "execution_count": 2,
   "metadata": {},
   "outputs": [],
   "source": [
    "pravega_jars = [\n",
    "    'pravega-connectors-spark-0.4.0-SNAPSHOT.jar', \n",
    "    'pravega-keycloak-credentials-0.4.0-2030.d99411b-0.0.1-020.26736d2-shadow.jar']\n",
    "spark_jars_conf = ','.join([os.path.join('/usr/local/share/java', j) for j in pravega_jars])\n",
    "spark = (SparkSession\n",
    "             .builder\n",
    "             .appName('test1')\n",
    "             .config('spark.jars', spark_jars_conf)\n",
    "             .getOrCreate()\n",
    "             )\n",
    "spark.conf.set('spark.sql.shuffle.partitions', '1')\n",
    "spark.conf.set('spark.sql.execution.arrow.enabled', 'true')"
   ]
  },
  {
   "cell_type": "code",
   "execution_count": 3,
   "metadata": {},
   "outputs": [],
   "source": [
    "#controller = 'tcp://nautilus-pravega-controller.nautilus-pravega.svc.cluster.local:9090'\n",
    "controller = 'tcp://127.0.0.1:9090'\n",
    "scope = 'examples'\n",
    "df0 = (spark\n",
    "      .readStream\n",
    "      .format(\"pravega\")\n",
    "      .option(\"controller\", controller)\n",
    "      .option(\"scope\", scope)\n",
    "      .option(\"stream\", \"unchunkedcombinedvideo\")\n",
    "#        .option(\"stream\", \"video\")\n",
    "#       .option(\"encoding\", \"chunked_v1\")\n",
    "      .load()\n",
    "      )"
   ]
  },
  {
   "cell_type": "code",
   "execution_count": null,
   "metadata": {},
   "outputs": [
    {
     "name": "stdout",
     "output_type": "stream",
     "text": [
      "root\n",
      " |-- event: binary (nullable = true)\n",
      " |-- scope: string (nullable = true)\n",
      " |-- stream: string (nullable = true)\n",
      " |-- segment_id: long (nullable = true)\n",
      " |-- offset: long (nullable = true)\n",
      "\n"
     ]
    }
   ],
   "source": [
    "df0.printSchema()"
   ]
  },
  {
   "cell_type": "code",
   "execution_count": null,
   "metadata": {},
   "outputs": [],
   "source": [
    "#schema='timestamp timestamp, frame_number int, camera int, ssrc int, data binary'\n",
    "schema='data binary'\n",
    "df = df0.withColumnRenamed('event', 'raw_event')\n",
    "df = df.select('*', decode('raw_event', 'UTF-8').alias('event_string'))\n",
    "df = df.select('*', from_json('event_string', schema=schema).alias('event'))\n",
    "df = df.select('*', 'event.*')\n",
    "df = df.select('*', length('data'))\n",
    "#df.printSchema()"
   ]
  },
  {
   "cell_type": "code",
   "execution_count": null,
   "metadata": {},
   "outputs": [],
   "source": [
    "def f(batch_df, batch_id):\n",
    "    \"\"\"Display each image in the batch.\"\"\"\n",
    "#     print('batch_id=%d' % batch_id)\n",
    "#     print('count=%d' % batch_df.count())\n",
    "    images = batch_df.select('data').collect()\n",
    "    for image in images:\n",
    "        png0 = image['data']\n",
    "        IPython.display.clear_output(wait=True)\n",
    "        IPython.display.display(IPython.display.Image(data=png0))\n",
    "        # TODO: Should sleep based on timestamp in row.\n",
    "        sleep(0.475)"
   ]
  },
  {
   "cell_type": "code",
   "execution_count": null,
   "metadata": {},
   "outputs": [
    {
     "data": {
      "image/png": "[encoded data removed]",
      "text/plain": [
       "<IPython.core.display.Image object>"
      ]
     },
     "metadata": {},
     "output_type": "display_data"
    }
   ],
   "source": [
    "(df\n",
    " .writeStream\n",
    "#  .trigger(processingTime='500 milliseconds')    # limit trigger rate\n",
    " .foreachBatch(f)\n",
    " .start()\n",
    " .awaitTermination()\n",
    ")"
   ]
  },
  {
   "cell_type": "code",
   "execution_count": null,
   "metadata": {},
   "outputs": [],
   "source": []
  }
 ],
 "metadata": {
  "kernelspec": {
   "display_name": "Python 3",
   "language": "python",
   "name": "python3"
  },
  "language_info": {
   "codemirror_mode": {
    "name": "ipython",
    "version": 3
   },
   "file_extension": ".py",
   "mimetype": "text/x-python",
   "name": "python",
   "nbconvert_exporter": "python",
   "pygments_lexer": "ipython3",
   "version": "3.7.3"
  }
 },
 "nbformat": 4,
 "nbformat_minor": 2
}
