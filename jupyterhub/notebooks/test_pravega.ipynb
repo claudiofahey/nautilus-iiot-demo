{
 "cells": [
  {
   "cell_type": "code",
   "execution_count": 3,
   "metadata": {},
   "outputs": [
    {
     "data": {
      "text/plain": [
       "2"
      ]
     },
     "execution_count": 3,
     "metadata": {},
     "output_type": "execute_result"
    }
   ],
   "source": [
    "1+1"
   ]
  },
  {
   "cell_type": "code",
   "execution_count": 4,
   "metadata": {},
   "outputs": [],
   "source": [
    "import pyspark\n",
    "from pyspark.sql import SparkSession\n",
    "import os"
   ]
  },
  {
   "cell_type": "code",
   "execution_count": 5,
   "metadata": {},
   "outputs": [
    {
     "data": {
      "text/plain": [
       "'2.4.1'"
      ]
     },
     "execution_count": 5,
     "metadata": {},
     "output_type": "execute_result"
    }
   ],
   "source": [
    "pyspark.__version__"
   ]
  },
  {
   "cell_type": "code",
   "execution_count": 6,
   "metadata": {},
   "outputs": [],
   "source": [
    "#os.environ['PYSPARK_SUBMIT_ARGS'] = '--jars /home/jovyan/lib/pravega-connectors-spark-0.4.0-SNAPSHOT.jar,/home/jovyan/lib/pravega-keycloak-credentials-0.4.0-2030.d99411b-0.0.1-020.26736d2-shadow.jar pyspark-shell'\n",
    "#os.environ['pravega_client_auth_method'] = 'Bearer'\n",
    "#os.environ['pravega_client_auth_loadDynamic'] = 'true'\n",
    "#os.environ['KEYCLOAK_SERVICE_ACCOUNT_FILE'] = '/home/jovyan/keycloak.json'"
   ]
  },
  {
   "cell_type": "code",
   "execution_count": 7,
   "metadata": {},
   "outputs": [],
   "source": [
    "pravega_jars = [\n",
    "    'pravega-connectors-spark-0.4.0-SNAPSHOT.jar', \n",
    "    'pravega-keycloak-credentials-0.4.0-2030.d99411b-0.0.1-020.26736d2-shadow.jar']\n",
    "spark_jars_conf = ','.join([os.path.join('/usr/local/share/java', j) for j in pravega_jars])\n",
    "spark = (SparkSession\n",
    "             .builder\n",
    "             .appName('test1')\n",
    "             .config('spark.jars', spark_jars_conf)\n",
    "             .getOrCreate()\n",
    "             )\n",
    "spark.conf.set('spark.sql.shuffle.partitions', '1')\n",
    "spark.conf.set('spark.sql.execution.arrow.enabled', 'true')"
   ]
  },
  {
   "cell_type": "code",
   "execution_count": 10,
   "metadata": {},
   "outputs": [
    {
     "data": {
      "text/plain": [
       "[('spark.jars',\n",
       "  '/usr/local/share/java/pravega-connectors-spark-0.4.0-SNAPSHOT.jar,/usr/local/share/java/pravega-keycloak-credentials-0.4.0-2030.d99411b-0.0.1-020.26736d2-shadow.jar'),\n",
       " ('spark.repl.local.jars',\n",
       "  'file:///usr/local/share/java/pravega-connectors-spark-0.4.0-SNAPSHOT.jar,file:///usr/local/share/java/pravega-keycloak-credentials-0.4.0-2030.d99411b-0.0.1-020.26736d2-shadow.jar'),\n",
       " ('spark.rdd.compress', 'True'),\n",
       " ('spark.serializer.objectStreamReset', '100'),\n",
       " ('spark.driver.host', 'jupyter-claudio'),\n",
       " ('spark.master', 'local[*]'),\n",
       " ('spark.executor.id', 'driver'),\n",
       " ('spark.submit.deployMode', 'client'),\n",
       " ('spark.driver.port', '37837'),\n",
       " ('spark.app.id', 'local-1556563928893'),\n",
       " ('spark.ui.showConsoleProgress', 'true'),\n",
       " ('spark.app.name', 'test1')]"
      ]
     },
     "execution_count": 10,
     "metadata": {},
     "output_type": "execute_result"
    }
   ],
   "source": [
    "spark.sparkContext.getConf().getAll()"
   ]
  },
  {
   "cell_type": "code",
   "execution_count": 11,
   "metadata": {},
   "outputs": [
    {
     "name": "stdout",
     "output_type": "stream",
     "text": [
      "+-----+\n",
      "|value|\n",
      "+-----+\n",
      "|    1|\n",
      "|    2|\n",
      "|    3|\n",
      "|    4|\n",
      "+-----+\n",
      "\n"
     ]
    }
   ],
   "source": [
    "spark.createDataFrame([1, 2, 3, 4], 'int').show()"
   ]
  },
  {
   "cell_type": "code",
   "execution_count": 12,
   "metadata": {},
   "outputs": [
    {
     "name": "stdout",
     "output_type": "stream",
     "text": [
      "+--------------------+--------+-------+----------+------+\n",
      "|               event|   scope| stream|segment_id|offset|\n",
      "+--------------------+--------+-------+----------+------+\n",
      "|[7B 22 74 69 6D 6...|examples|sensors|         0|     0|\n",
      "|[7B 22 74 69 6D 6...|examples|sensors|         0|   127|\n",
      "|[7B 22 74 69 6D 6...|examples|sensors|         0|   254|\n",
      "|[7B 22 74 69 6D 6...|examples|sensors|         0|   381|\n",
      "|[7B 22 74 69 6D 6...|examples|sensors|         0|   509|\n",
      "|[7B 22 74 69 6D 6...|examples|sensors|         0|   636|\n",
      "|[7B 22 74 69 6D 6...|examples|sensors|         0|   762|\n",
      "|[7B 22 74 69 6D 6...|examples|sensors|         0|   890|\n",
      "|[7B 22 74 69 6D 6...|examples|sensors|         0|  1018|\n",
      "|[7B 22 74 69 6D 6...|examples|sensors|         0|  1146|\n",
      "|[7B 22 74 69 6D 6...|examples|sensors|         0|  1273|\n",
      "|[7B 22 74 69 6D 6...|examples|sensors|         0|  1401|\n",
      "|[7B 22 74 69 6D 6...|examples|sensors|         0|  1529|\n",
      "|[7B 22 74 69 6D 6...|examples|sensors|         0|  1656|\n",
      "|[7B 22 74 69 6D 6...|examples|sensors|         0|  1784|\n",
      "|[7B 22 74 69 6D 6...|examples|sensors|         0|  1911|\n",
      "|[7B 22 74 69 6D 6...|examples|sensors|         0|  2039|\n",
      "|[7B 22 74 69 6D 6...|examples|sensors|         0|  2167|\n",
      "|[7B 22 74 69 6D 6...|examples|sensors|         0|  2295|\n",
      "|[7B 22 74 69 6D 6...|examples|sensors|         0|  2422|\n",
      "+--------------------+--------+-------+----------+------+\n",
      "only showing top 20 rows\n",
      "\n"
     ]
    }
   ],
   "source": [
    "controller = 'tcp://nautilus-pravega-controller.nautilus-pravega.svc.cluster.local:9090'\n",
    "scope = 'examples'\n",
    "df = (spark\n",
    "      .read\n",
    "      .format(\"pravega\")\n",
    "      .option(\"controller\", controller)\n",
    "      .option(\"scope\", scope)\n",
    "      .option(\"stream\", \"sensors\")\n",
    "      .load()\n",
    "      )\n",
    "df.show()"
   ]
  },
  {
   "cell_type": "code",
   "execution_count": 13,
   "metadata": {},
   "outputs": [],
   "source": [
    "df = df.limit(10).cache()"
   ]
  },
  {
   "cell_type": "code",
   "execution_count": 14,
   "metadata": {},
   "outputs": [
    {
     "name": "stdout",
     "output_type": "stream",
     "text": [
      "+--------------------+--------+-------+----------+------+\n",
      "|               event|   scope| stream|segment_id|offset|\n",
      "+--------------------+--------+-------+----------+------+\n",
      "|[7B 22 74 69 6D 6...|examples|sensors|         0|     0|\n",
      "|[7B 22 74 69 6D 6...|examples|sensors|         0|   127|\n",
      "|[7B 22 74 69 6D 6...|examples|sensors|         0|   254|\n",
      "|[7B 22 74 69 6D 6...|examples|sensors|         0|   381|\n",
      "|[7B 22 74 69 6D 6...|examples|sensors|         0|   509|\n",
      "|[7B 22 74 69 6D 6...|examples|sensors|         0|   636|\n",
      "|[7B 22 74 69 6D 6...|examples|sensors|         0|   762|\n",
      "|[7B 22 74 69 6D 6...|examples|sensors|         0|   890|\n",
      "|[7B 22 74 69 6D 6...|examples|sensors|         0|  1018|\n",
      "|[7B 22 74 69 6D 6...|examples|sensors|         0|  1146|\n",
      "+--------------------+--------+-------+----------+------+\n",
      "\n"
     ]
    }
   ],
   "source": [
    "df.show()"
   ]
  },
  {
   "cell_type": "code",
   "execution_count": 15,
   "metadata": {},
   "outputs": [],
   "source": [
    "def f(row):\n",
    "    filename = '/tmp/file-%d' % (row.offset,)\n",
    "    with open(filename, 'wb') as output:\n",
    "        output.write(row.event)\n",
    "df.foreach(f)"
   ]
  },
  {
   "cell_type": "code",
   "execution_count": null,
   "metadata": {},
   "outputs": [],
   "source": []
  }
 ],
 "metadata": {
  "kernelspec": {
   "display_name": "Python 3",
   "language": "python",
   "name": "python3"
  },
  "language_info": {
   "codemirror_mode": {
    "name": "ipython",
    "version": 3
   },
   "file_extension": ".py",
   "mimetype": "text/x-python",
   "name": "python",
   "nbconvert_exporter": "python",
   "pygments_lexer": "ipython3",
   "version": "3.7.3"
  }
 },
 "nbformat": 4,
 "nbformat_minor": 2
}
