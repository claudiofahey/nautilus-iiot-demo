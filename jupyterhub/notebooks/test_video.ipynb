{
 "cells": [
  {
   "cell_type": "code",
   "execution_count": 15,
   "metadata": {},
   "outputs": [],
   "source": [
    "import pyspark\n",
    "from pyspark.sql import SparkSession\n",
    "from pyspark.sql.functions import decode, from_json, length\n",
    "import os"
   ]
  },
  {
   "cell_type": "code",
   "execution_count": 2,
   "metadata": {},
   "outputs": [
    {
     "data": {
      "text/plain": [
       "'2.4.0'"
      ]
     },
     "execution_count": 2,
     "metadata": {},
     "output_type": "execute_result"
    }
   ],
   "source": [
    "pyspark.__version__"
   ]
  },
  {
   "cell_type": "code",
   "execution_count": 3,
   "metadata": {},
   "outputs": [],
   "source": [
    "#os.environ['PYSPARK_SUBMIT_ARGS'] = '--jars /home/jovyan/lib/pravega-connectors-spark-0.4.0-SNAPSHOT.jar,/home/jovyan/lib/pravega-keycloak-credentials-0.4.0-2030.d99411b-0.0.1-020.26736d2-shadow.jar pyspark-shell'\n",
    "#os.environ['pravega_client_auth_method'] = 'Bearer'\n",
    "#os.environ['pravega_client_auth_loadDynamic'] = 'true'\n",
    "#os.environ['KEYCLOAK_SERVICE_ACCOUNT_FILE'] = '/home/jovyan/keycloak.json'"
   ]
  },
  {
   "cell_type": "code",
   "execution_count": 4,
   "metadata": {},
   "outputs": [],
   "source": [
    "spark = (SparkSession\n",
    "             .builder\n",
    "             .appName('test1')\n",
    "             .config('spark.jars', '/home/jovyan/lib/pravega-connectors-spark-0.4.0-SNAPSHOT.jar,/home/jovyan/lib/pravega-keycloak-credentials-0.4.0-2030.d99411b-0.0.1-020.26736d2-shadow.jar')\n",
    "             .config('spark.driver.memory', '4g')\n",
    "             .config('spark.executor.memory', '4g')\n",
    "             .getOrCreate()\n",
    "             )"
   ]
  },
  {
   "cell_type": "code",
   "execution_count": 5,
   "metadata": {},
   "outputs": [],
   "source": [
    "spark.conf.set('spark.sql.shuffle.partitions', '1')\n",
    "spark.conf.set('spark.sql.execution.arrow.enabled', 'true')\n",
    "#spark.conf.set('spark.jars', '/home/jovyan/lib/pravega-connectors-spark-0.4.0-SNAPSHOT.jar,/home/jovyan/lib/pravega-keycloak-credentials-0.4.0-2030.d99411b-0.0.1-020.26736d2-shadow.jar')"
   ]
  },
  {
   "cell_type": "code",
   "execution_count": 6,
   "metadata": {},
   "outputs": [
    {
     "data": {
      "text/plain": [
       "[('spark.jars',\n",
       "  '/home/jovyan/lib/pravega-connectors-spark-0.4.0-SNAPSHOT.jar,/home/jovyan/lib/pravega-keycloak-credentials-0.4.0-2030.d99411b-0.0.1-020.26736d2-shadow.jar'),\n",
       " ('spark.driver.memory', '4g'),\n",
       " ('spark.executor.memory', '4g'),\n",
       " ('spark.driver.host', 'jupyter-claudio'),\n",
       " ('spark.executor.id', 'driver'),\n",
       " ('spark.driver.port', '38083'),\n",
       " ('spark.repl.local.jars',\n",
       "  'file:///home/jovyan/lib/pravega-connectors-spark-0.4.0-SNAPSHOT.jar,file:///home/jovyan/lib/pravega-keycloak-credentials-0.4.0-2030.d99411b-0.0.1-020.26736d2-shadow.jar'),\n",
       " ('spark.app.id', 'local-1556433112123'),\n",
       " ('spark.rdd.compress', 'True'),\n",
       " ('spark.serializer.objectStreamReset', '100'),\n",
       " ('spark.master', 'local[*]'),\n",
       " ('spark.submit.deployMode', 'client'),\n",
       " ('spark.ui.showConsoleProgress', 'true'),\n",
       " ('spark.app.name', 'test1')]"
      ]
     },
     "execution_count": 6,
     "metadata": {},
     "output_type": "execute_result"
    }
   ],
   "source": [
    "spark.sparkContext.getConf().getAll()"
   ]
  },
  {
   "cell_type": "code",
   "execution_count": 46,
   "metadata": {},
   "outputs": [],
   "source": [
    "controller = 'tcp://nautilus-pravega-controller.nautilus-pravega.svc.cluster.local:9090'\n",
    "scope = 'examples'\n",
    "df = (spark\n",
    "      .read\n",
    "      .format(\"pravega\")\n",
    "      .option(\"controller\", controller)\n",
    "      .option(\"scope\", scope)\n",
    "      .option(\"stream\", \"video\")\n",
    "      .option(\"encoding\", \"chunked_v1\")\n",
    "      .load()\n",
    "      )\n",
    "#df.show()"
   ]
  },
  {
   "cell_type": "code",
   "execution_count": 47,
   "metadata": {},
   "outputs": [],
   "source": [
    "schema='timestamp timestamp, frame_number int, camera int, ssrc int, data binary'\n",
    "df = df.withColumnRenamed('event', 'raw_event')\n",
    "df = df.select('*', decode('raw_event', 'UTF-8').alias('event_string'))\n",
    "df = df.select('*', from_json('event_string', schema=schema).alias('event'))\n",
    "df = df.select('*', 'event.*')\n",
    "df = df.select('*', length('data'))"
   ]
  },
  {
   "cell_type": "code",
   "execution_count": 49,
   "metadata": {},
   "outputs": [
    {
     "name": "stdout",
     "output_type": "stream",
     "text": [
      "root\n",
      " |-- raw_event: binary (nullable = true)\n",
      " |-- scope: string (nullable = true)\n",
      " |-- stream: string (nullable = true)\n",
      " |-- segment_id: long (nullable = true)\n",
      " |-- offset: long (nullable = true)\n",
      " |-- event_string: string (nullable = true)\n",
      " |-- event: struct (nullable = true)\n",
      " |    |-- timestamp: timestamp (nullable = true)\n",
      " |    |-- frame_number: integer (nullable = true)\n",
      " |    |-- camera: integer (nullable = true)\n",
      " |    |-- ssrc: integer (nullable = true)\n",
      " |    |-- data: binary (nullable = true)\n",
      " |-- timestamp: timestamp (nullable = true)\n",
      " |-- frame_number: integer (nullable = true)\n",
      " |-- camera: integer (nullable = true)\n",
      " |-- ssrc: integer (nullable = true)\n",
      " |-- data: binary (nullable = true)\n",
      " |-- length(data): integer (nullable = true)\n",
      "\n"
     ]
    }
   ],
   "source": [
    "df.printSchema()"
   ]
  },
  {
   "cell_type": "code",
   "execution_count": 50,
   "metadata": {},
   "outputs": [],
   "source": [
    "df = df.limit(10).cache()"
   ]
  },
  {
   "cell_type": "code",
   "execution_count": 51,
   "metadata": {},
   "outputs": [
    {
     "name": "stdout",
     "output_type": "stream",
     "text": [
      "+--------+------+----------+---------+--------------------+------------+------+----------+------------+\n",
      "|   scope|stream|segment_id|   offset|           timestamp|frame_number|camera|      ssrc|length(data)|\n",
      "+--------+------+----------+---------+--------------------+------------+------+----------+------------+\n",
      "|examples| video|         0|        0|2019-04-25 05:54:...|           0|     0|1227050840|    14798051|\n",
      "|examples| video|         0| 19731145|2019-04-25 05:54:...|           1|     0|1227050840|     2429487|\n",
      "|examples| video|         0| 22970630|2019-04-25 05:55:...|           2|     0|1227050840|    11734712|\n",
      "|examples| video|         0| 38617259|2019-04-25 05:55:...|           3|     0|1227050840|    16315434|\n",
      "|examples| video|         0| 60371612|2019-04-25 05:55:...|           4|     0|1227050840|      448155|\n",
      "|examples| video|         0| 60969273|2019-04-25 05:55:...|           5|     0|1227050840|    20487721|\n",
      "|examples| video|         0| 88286774|2019-04-25 05:55:...|           6|     0|1227050840|      194171|\n",
      "|examples| video|         0| 88545791|2019-04-25 05:55:...|           7|     0|1227050840|    16175695|\n",
      "|examples| video|         0|110113828|2019-04-25 05:55:...|           8|     0|1227050840|    16161753|\n",
      "|examples| video|         0|131663273|2019-04-25 05:55:...|           9|     0|1227050840|    18053867|\n",
      "+--------+------+----------+---------+--------------------+------------+------+----------+------------+\n",
      "\n"
     ]
    }
   ],
   "source": [
    "df.drop('raw_event', 'event_string', 'event', 'data').show()"
   ]
  },
  {
   "cell_type": "code",
   "execution_count": 52,
   "metadata": {},
   "outputs": [],
   "source": [
    "def f(row):\n",
    "    filename = '/home/jovyan/file-%d.png' % (row.frame_number,)\n",
    "    with open(filename, 'wb') as output:\n",
    "        output.write(row.data)\n",
    "df.foreach(f)"
   ]
  },
  {
   "cell_type": "code",
   "execution_count": null,
   "metadata": {},
   "outputs": [],
   "source": []
  }
 ],
 "metadata": {
  "kernelspec": {
   "display_name": "Python 3",
   "language": "python",
   "name": "python3"
  },
  "language_info": {
   "codemirror_mode": {
    "name": "ipython",
    "version": 3
   },
   "file_extension": ".py",
   "mimetype": "text/x-python",
   "name": "python",
   "nbconvert_exporter": "python",
   "pygments_lexer": "ipython3",
   "version": "3.7.3"
  }
 },
 "nbformat": 4,
 "nbformat_minor": 2
}
