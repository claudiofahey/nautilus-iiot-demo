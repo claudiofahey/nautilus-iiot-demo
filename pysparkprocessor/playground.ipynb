{
 "cells": [
  {
   "cell_type": "code",
   "execution_count": 1,
   "metadata": {
    "collapsed": true
   },
   "outputs": [],
   "source": [
    "import pandas as pd\n",
    "import numpy as np\n",
    "import glob\n",
    "import matplotlib.pylab as plt\n",
    "from pyspark import SparkContext, SparkConf\n",
    "from pyspark.sql import SQLContext, Row\n",
    "from pyspark.sql.types import StructType, StructField, IntegerType, TimestampType, DoubleType, StringType, LongType\n",
    "from pyspark.sql.functions import to_utc_timestamp, unix_timestamp, from_unixtime\n",
    "%matplotlib inline"
   ]
  },
  {
   "cell_type": "markdown",
   "metadata": {},
   "source": [
    "Spark must load the JARs that contain the Pravega Hadoop Connector, Pravega Client, and UTF8StringSerializer."
   ]
  },
  {
   "cell_type": "code",
   "execution_count": 2,
   "metadata": {},
   "outputs": [
    {
     "data": {
      "text/plain": [
       "<pyspark.conf.SparkConf at 0x7f1f20fd8cc0>"
      ]
     },
     "execution_count": 2,
     "metadata": {},
     "output_type": "execute_result"
    }
   ],
   "source": [
    "conf = SparkConf()\n",
    "conf.set(\"spark.jars\", \"/notebooks/work/iiotdemo-sparkprocessor-0.2.0-SNAPSHOT-all.jar\")\n",
    "conf.setMaster('local[2]')"
   ]
  },
  {
   "cell_type": "code",
   "execution_count": 3,
   "metadata": {
    "collapsed": true
   },
   "outputs": [],
   "source": [
    "sc = SparkContext.getOrCreate(conf=conf)\n",
    "sql_sc = SQLContext(sc)"
   ]
  },
  {
   "cell_type": "markdown",
   "metadata": {},
   "source": [
    "Create an RDD of strings from JSON events in a Pravega stream."
   ]
  },
  {
   "cell_type": "code",
   "execution_count": 15,
   "metadata": {},
   "outputs": [],
   "source": [
    "rdd = sc.newAPIHadoopRDD(\n",
    "    inputFormatClass='io.pravega.connectors.hadoop.PravegaInputFormat',\n",
    "    keyClass='io.pravega.connectors.hadoop.EventKey',\n",
    "    valueClass='java.lang.String',\n",
    "    conf={\n",
    "        'pravega.scope': 'iot1',\n",
    "        'pravega.stream': 'data',\n",
    "        'pravega.uri': 'tcp://10.246.21.230:9090',\n",
    "        'pravega.deserializer': 'io.pravega.example.iiotdemo.sparkprocessor.UTF8StringSerializer',\n",
    "    },\n",
    ")"
   ]
  },
  {
   "cell_type": "markdown",
   "metadata": {},
   "source": [
    "Read Pravega events without specifying a schema. This performs two passes on the data."
   ]
  },
  {
   "cell_type": "code",
   "execution_count": 5,
   "metadata": {},
   "outputs": [
    {
     "name": "stdout",
     "output_type": "stream",
     "text": [
      "+---------+----------+-----------+------------------+-------------+------------------+-----------------+\n",
      "|device_id|event_type|remote_addr|      temp_celsius|    timestamp|        vibration1|       vibration2|\n",
      "+---------+----------+-----------+------------------+-------------+------------------+-----------------+\n",
      "|     0002|      temp|  127.0.0.1|23.447554062011953|1526594516113|              null|             null|\n",
      "|     0001|      temp|  127.0.0.1| 37.22421743210678|1526594516112|              null|             null|\n",
      "|     0002| vibration|  127.0.0.1|              null|1526594516113|2965.9755406201193|6031.951081240239|\n",
      "|     0001| vibration|  127.0.0.1|              null|1526594516112| 3103.742174321068|6307.484348642136|\n",
      "|     0002|      temp|  127.0.0.1| 23.39155667180122|1526594517127|              null|             null|\n",
      "|     0002| vibration|  127.0.0.1|              null|1526594517127|2965.4155667180116|6030.831133436023|\n",
      "|     0001|      temp|  127.0.0.1| 37.14044473638414|1526594517437|              null|             null|\n",
      "|     0001| vibration|  127.0.0.1|              null|1526594517437|3102.9044473638414|6305.808894727683|\n",
      "|     0002|      temp|  127.0.0.1|23.339366447471768|1526594518141|              null|             null|\n",
      "|     0002| vibration|  127.0.0.1|              null|1526594518141|2964.8936644747173|6029.787328949435|\n",
      "|     0001|      temp|  127.0.0.1| 37.07423386711112|1526594518762|              null|             null|\n",
      "|     0001| vibration|  127.0.0.1|              null|1526594518762|3102.2423386711107|6304.484677342221|\n",
      "|     0002|      temp|  127.0.0.1|23.290990950746018|1526594519155|              null|             null|\n",
      "|     0002| vibration|  127.0.0.1|              null|1526594519155|  2964.40990950746| 6028.81981901492|\n",
      "|     0001|      temp|  127.0.0.1| 37.02570011068423|1526594520087|              null|             null|\n",
      "|     0001| vibration|  127.0.0.1|              null|1526594520087| 3101.757001106842|6303.514002213684|\n",
      "|     0002|      temp|  127.0.0.1|23.246437283613528|1526594520169|              null|             null|\n",
      "|     0002| vibration|  127.0.0.1|              null|1526594520169| 2963.964372836135| 6027.92874567227|\n",
      "+---------+----------+-----------+------------------+-------------+------------------+-----------------+\n",
      "\n",
      "CPU times: user 8 ms, sys: 8 ms, total: 16 ms\n",
      "Wall time: 5.77 s\n"
     ]
    }
   ],
   "source": [
    "%%time\n",
    "df = sql_sc.read.json(rdd.values())\n",
    "df.show()"
   ]
  },
  {
   "cell_type": "markdown",
   "metadata": {},
   "source": [
    "View the generated schema."
   ]
  },
  {
   "cell_type": "code",
   "execution_count": 6,
   "metadata": {},
   "outputs": [
    {
     "data": {
      "text/plain": [
       "StructType(List(StructField(device_id,StringType,true),StructField(event_type,StringType,true),StructField(remote_addr,StringType,true),StructField(temp_celsius,DoubleType,true),StructField(timestamp,LongType,true),StructField(vibration1,DoubleType,true),StructField(vibration2,DoubleType,true)))"
      ]
     },
     "execution_count": 6,
     "metadata": {},
     "output_type": "execute_result"
    }
   ],
   "source": [
    "df.schema"
   ]
  },
  {
   "cell_type": "markdown",
   "metadata": {},
   "source": [
    "Read Pravega events with a schema. We also cache the result in memory."
   ]
  },
  {
   "cell_type": "code",
   "execution_count": 16,
   "metadata": {},
   "outputs": [
    {
     "name": "stdout",
     "output_type": "stream",
     "text": [
      "+-------------+----------+---------+------------------+------------------+-----------------+\n",
      "|    timestamp|event_type|device_id|      temp_celsius|        vibration1|       vibration2|\n",
      "+-------------+----------+---------+------------------+------------------+-----------------+\n",
      "|1526594516113|      temp|     0002|23.447554062011953|              null|             null|\n",
      "|1526594516112|      temp|     0001| 37.22421743210678|              null|             null|\n",
      "|1526594516113| vibration|     0002|              null|2965.9755406201193|6031.951081240239|\n",
      "|1526594516112| vibration|     0001|              null| 3103.742174321068|6307.484348642136|\n",
      "|1526594517127|      temp|     0002| 23.39155667180122|              null|             null|\n",
      "|1526594517127| vibration|     0002|              null|2965.4155667180116|6030.831133436023|\n",
      "|1526594517437|      temp|     0001| 37.14044473638414|              null|             null|\n",
      "|1526594517437| vibration|     0001|              null|3102.9044473638414|6305.808894727683|\n",
      "|1526594518141|      temp|     0002|23.339366447471768|              null|             null|\n",
      "|1526594518141| vibration|     0002|              null|2964.8936644747173|6029.787328949435|\n",
      "|1526594518762|      temp|     0001| 37.07423386711112|              null|             null|\n",
      "|1526594518762| vibration|     0001|              null|3102.2423386711107|6304.484677342221|\n",
      "|1526594519155|      temp|     0002|23.290990950746018|              null|             null|\n",
      "|1526594519155| vibration|     0002|              null|  2964.40990950746| 6028.81981901492|\n",
      "|1526594520087|      temp|     0001| 37.02570011068423|              null|             null|\n",
      "|1526594520087| vibration|     0001|              null| 3101.757001106842|6303.514002213684|\n",
      "|1526594520169|      temp|     0002|23.246437283613528|              null|             null|\n",
      "|1526594520169| vibration|     0002|              null| 2963.964372836135| 6027.92874567227|\n",
      "|1526597031016|      temp|     0002| 70.98551354239365|              null|             null|\n",
      "|1526597031021|      temp|     0009| 39.54021451739752|              null|             null|\n",
      "+-------------+----------+---------+------------------+------------------+-----------------+\n",
      "only showing top 20 rows\n",
      "\n",
      "CPU times: user 12 ms, sys: 0 ns, total: 12 ms\n",
      "Wall time: 485 ms\n"
     ]
    }
   ],
   "source": [
    "%%time\n",
    "schema = StructType([\n",
    "        StructField('timestamp', LongType(), True),\n",
    "        StructField('event_type', StringType(), True),\n",
    "        StructField('device_id', StringType(), True),\n",
    "        StructField('temp_celsius', DoubleType(), True),\n",
    "        StructField('vibration1', DoubleType(), True),\n",
    "        StructField('vibration2', DoubleType(), True),\n",
    "    ])\n",
    "df = sql_sc.read.schema(schema).json(rdd.values()).cache()\n",
    "df.show()"
   ]
  },
  {
   "cell_type": "code",
   "execution_count": 8,
   "metadata": {},
   "outputs": [
    {
     "name": "stdout",
     "output_type": "stream",
     "text": [
      "+-------------+----------+---------+------------------+----------+----------+\n",
      "|    timestamp|event_type|device_id|      temp_celsius|vibration1|vibration2|\n",
      "+-------------+----------+---------+------------------+----------+----------+\n",
      "|1526594516113|      temp|     0002|23.447554062011953|      null|      null|\n",
      "|1526594516112|      temp|     0001| 37.22421743210678|      null|      null|\n",
      "|1526594517127|      temp|     0002| 23.39155667180122|      null|      null|\n",
      "|1526594517437|      temp|     0001| 37.14044473638414|      null|      null|\n",
      "|1526594518141|      temp|     0002|23.339366447471768|      null|      null|\n",
      "|1526594518762|      temp|     0001| 37.07423386711112|      null|      null|\n",
      "|1526594519155|      temp|     0002|23.290990950746018|      null|      null|\n",
      "|1526594520087|      temp|     0001| 37.02570011068423|      null|      null|\n",
      "|1526594520169|      temp|     0002|23.246437283613528|      null|      null|\n",
      "+-------------+----------+---------+------------------+----------+----------+\n",
      "\n"
     ]
    }
   ],
   "source": [
    "df.filter('event_type=\"temp\"').show()"
   ]
  },
  {
   "cell_type": "code",
   "execution_count": 17,
   "metadata": {},
   "outputs": [
    {
     "data": {
      "text/plain": [
       "272"
      ]
     },
     "execution_count": 17,
     "metadata": {},
     "output_type": "execute_result"
    }
   ],
   "source": [
    "df.count()"
   ]
  },
  {
   "cell_type": "code",
   "execution_count": 18,
   "metadata": {},
   "outputs": [
    {
     "name": "stdout",
     "output_type": "stream",
     "text": [
      "+-------------+----------+---------+------------------+------------------+-----------------+-------------------+\n",
      "|    timestamp|event_type|device_id|      temp_celsius|        vibration1|       vibration2|      timestamp_str|\n",
      "+-------------+----------+---------+------------------+------------------+-----------------+-------------------+\n",
      "|1526594516113|      temp|     0002|23.447554062011953|              null|             null|2018-05-17 22:01:56|\n",
      "|1526594516112|      temp|     0001| 37.22421743210678|              null|             null|2018-05-17 22:01:56|\n",
      "|1526594516113| vibration|     0002|              null|2965.9755406201193|6031.951081240239|2018-05-17 22:01:56|\n",
      "|1526594516112| vibration|     0001|              null| 3103.742174321068|6307.484348642136|2018-05-17 22:01:56|\n",
      "|1526594517127|      temp|     0002| 23.39155667180122|              null|             null|2018-05-17 22:01:57|\n",
      "|1526594517127| vibration|     0002|              null|2965.4155667180116|6030.831133436023|2018-05-17 22:01:57|\n",
      "|1526594517437|      temp|     0001| 37.14044473638414|              null|             null|2018-05-17 22:01:57|\n",
      "|1526594517437| vibration|     0001|              null|3102.9044473638414|6305.808894727683|2018-05-17 22:01:57|\n",
      "|1526594518141|      temp|     0002|23.339366447471768|              null|             null|2018-05-17 22:01:58|\n",
      "|1526594518141| vibration|     0002|              null|2964.8936644747173|6029.787328949435|2018-05-17 22:01:58|\n",
      "|1526594518762|      temp|     0001| 37.07423386711112|              null|             null|2018-05-17 22:01:58|\n",
      "|1526594518762| vibration|     0001|              null|3102.2423386711107|6304.484677342221|2018-05-17 22:01:58|\n",
      "|1526594519155|      temp|     0002|23.290990950746018|              null|             null|2018-05-17 22:01:59|\n",
      "|1526594519155| vibration|     0002|              null|  2964.40990950746| 6028.81981901492|2018-05-17 22:01:59|\n",
      "|1526594520087|      temp|     0001| 37.02570011068423|              null|             null|2018-05-17 22:02:00|\n",
      "|1526594520087| vibration|     0001|              null| 3101.757001106842|6303.514002213684|2018-05-17 22:02:00|\n",
      "|1526594520169|      temp|     0002|23.246437283613528|              null|             null|2018-05-17 22:02:00|\n",
      "|1526594520169| vibration|     0002|              null| 2963.964372836135| 6027.92874567227|2018-05-17 22:02:00|\n",
      "|1526597031016|      temp|     0002| 70.98551354239365|              null|             null|2018-05-17 22:43:51|\n",
      "|1526597031021|      temp|     0009| 39.54021451739752|              null|             null|2018-05-17 22:43:51|\n",
      "+-------------+----------+---------+------------------+------------------+-----------------+-------------------+\n",
      "only showing top 20 rows\n",
      "\n"
     ]
    }
   ],
   "source": [
    "df = df.withColumn('timestamp_str', from_unixtime(df['timestamp'] / 1000.0))\n",
    "df.show()"
   ]
  },
  {
   "cell_type": "code",
   "execution_count": 19,
   "metadata": {},
   "outputs": [
    {
     "name": "stdout",
     "output_type": "stream",
     "text": [
      "+-------------+----------+---------+------------------+------------------+-----------------+-------------------+\n",
      "|    timestamp|event_type|device_id|      temp_celsius|        vibration1|       vibration2|      timestamp_str|\n",
      "+-------------+----------+---------+------------------+------------------+-----------------+-------------------+\n",
      "|1526594516112|      temp|     0001| 37.22421743210678|              null|             null|2018-05-17 22:01:56|\n",
      "|1526594516112| vibration|     0001|              null| 3103.742174321068|6307.484348642136|2018-05-17 22:01:56|\n",
      "|1526594516113|      temp|     0002|23.447554062011953|              null|             null|2018-05-17 22:01:56|\n",
      "|1526594516113| vibration|     0002|              null|2965.9755406201193|6031.951081240239|2018-05-17 22:01:56|\n",
      "|1526594517127|      temp|     0002| 23.39155667180122|              null|             null|2018-05-17 22:01:57|\n",
      "|1526594517127| vibration|     0002|              null|2965.4155667180116|6030.831133436023|2018-05-17 22:01:57|\n",
      "|1526594517437|      temp|     0001| 37.14044473638414|              null|             null|2018-05-17 22:01:57|\n",
      "|1526594517437| vibration|     0001|              null|3102.9044473638414|6305.808894727683|2018-05-17 22:01:57|\n",
      "|1526594518141|      temp|     0002|23.339366447471768|              null|             null|2018-05-17 22:01:58|\n",
      "|1526594518141| vibration|     0002|              null|2964.8936644747173|6029.787328949435|2018-05-17 22:01:58|\n",
      "|1526594518762| vibration|     0001|              null|3102.2423386711107|6304.484677342221|2018-05-17 22:01:58|\n",
      "|1526594518762|      temp|     0001| 37.07423386711112|              null|             null|2018-05-17 22:01:58|\n",
      "|1526594519155|      temp|     0002|23.290990950746018|              null|             null|2018-05-17 22:01:59|\n",
      "|1526594519155| vibration|     0002|              null|  2964.40990950746| 6028.81981901492|2018-05-17 22:01:59|\n",
      "|1526594520087|      temp|     0001| 37.02570011068423|              null|             null|2018-05-17 22:02:00|\n",
      "|1526594520087| vibration|     0001|              null| 3101.757001106842|6303.514002213684|2018-05-17 22:02:00|\n",
      "|1526594520169| vibration|     0002|              null| 2963.964372836135| 6027.92874567227|2018-05-17 22:02:00|\n",
      "|1526594520169|      temp|     0002|23.246437283613528|              null|             null|2018-05-17 22:02:00|\n",
      "|1526597031014|      temp|     0001|39.355869573704155|              null|             null|2018-05-17 22:43:51|\n",
      "|1526597031014| vibration|     0001|              null| 3125.058695737041|6350.117391474082|2018-05-17 22:43:51|\n",
      "+-------------+----------+---------+------------------+------------------+-----------------+-------------------+\n",
      "only showing top 20 rows\n",
      "\n"
     ]
    }
   ],
   "source": [
    "df.sort('timestamp').show()"
   ]
  },
  {
   "cell_type": "code",
   "execution_count": 20,
   "metadata": {
    "collapsed": true
   },
   "outputs": [],
   "source": [
    "sql_sc.registerDataFrameAsTable(df, 'rawData')"
   ]
  },
  {
   "cell_type": "markdown",
   "metadata": {},
   "source": [
    "Run SQL queries."
   ]
  },
  {
   "cell_type": "code",
   "execution_count": 21,
   "metadata": {},
   "outputs": [
    {
     "name": "stdout",
     "output_type": "stream",
     "text": [
      "+-------------+----------+---------+------------+------------------+-----------------+-------------------+\n",
      "|    timestamp|event_type|device_id|temp_celsius|        vibration1|       vibration2|      timestamp_str|\n",
      "+-------------+----------+---------+------------+------------------+-----------------+-------------------+\n",
      "|1526597031021| vibration|     0005|        null|3608.0137830175254|7316.027566035051|2018-05-17 22:43:51|\n",
      "|1526597031808| vibration|     0005|        null|3604.7559106554054|7309.511821310811|2018-05-17 22:43:51|\n",
      "|1526597032595| vibration|     0005|        null| 3601.368713491468|7302.737426982936|2018-05-17 22:43:52|\n",
      "|1526597033382| vibration|     0005|        null|3597.8536024867435|7295.707204973487|2018-05-17 22:43:53|\n",
      "|1526597034169| vibration|     0005|        null| 3594.212032820148|7288.424065640296|2018-05-17 22:43:54|\n",
      "|1526597034956| vibration|     0005|        null| 3590.445521268653|7280.891042537306|2018-05-17 22:43:54|\n",
      "|1526597035743| vibration|     0005|        null|  3586.55562983898| 7273.11125967796|2018-05-17 22:43:55|\n",
      "|1526597036530| vibration|     0005|        null| 3582.543977390791|7265.087954781582|2018-05-17 22:43:56|\n",
      "|1526597037317| vibration|     0005|        null| 3578.412229125014|7256.824458250028|2018-05-17 22:43:57|\n",
      "|1526597038104| vibration|     0005|        null| 3574.162101534602|7248.324203069204|2018-05-17 22:43:58|\n",
      "|1526597038891| vibration|     0005|        null| 3569.795360292001|7239.590720584002|2018-05-17 22:43:58|\n",
      "|1526597039678| vibration|     0005|        null|3565.3138178567033|7230.627635713407|2018-05-17 22:43:59|\n",
      "|1526597040465| vibration|     0005|        null|3560.7193393163084|7221.438678632617|2018-05-17 22:44:00|\n",
      "|1526597041252| vibration|     0005|        null|3556.0138300430053|7212.027660086011|2018-05-17 22:44:01|\n",
      "|1526597042039| vibration|     0005|        null|3551.1992483328795|7202.398496665759|2018-05-17 22:44:02|\n",
      "|1526597042826| vibration|     0005|        null| 3546.277592655269|7192.555185310538|2018-05-17 22:44:02|\n",
      "|1526597043613| vibration|     0005|        null|  3541.25090766216| 7182.50181532432|2018-05-17 22:44:03|\n",
      "|1526597044400| vibration|     0005|        null| 3536.121281638902|7172.242563277804|2018-05-17 22:44:04|\n",
      "|1526597044271| vibration|     0006|        null| 3510.111027056836|7120.222054113672|2018-05-17 22:44:04|\n",
      "|1526597042946| vibration|     0006|        null|3509.1251742921236|7118.250348584247|2018-05-17 22:44:02|\n",
      "+-------------+----------+---------+------------+------------------+-----------------+-------------------+\n",
      "only showing top 20 rows\n",
      "\n"
     ]
    }
   ],
   "source": [
    "sql_sc.sql('select * from rawData where event_type=\"vibration\" order by vibration2 desc').show()"
   ]
  },
  {
   "cell_type": "code",
   "execution_count": 22,
   "metadata": {},
   "outputs": [
    {
     "name": "stdout",
     "output_type": "stream",
     "text": [
      "+---------+----------+----------+-------------------+\n",
      "|device_id|event_type|num_events|     last_timestamp|\n",
      "+---------+----------+----------+-------------------+\n",
      "|     0003| vibration|        10|2018-05-17 22:44:04|\n",
      "|     0002| vibration|        20|2018-05-17 22:44:03|\n",
      "|     0006|      temp|        11|2018-05-17 22:44:04|\n",
      "|     0007|      temp|        13|2018-05-17 22:44:04|\n",
      "|     0010|      temp|        10|2018-05-17 22:44:04|\n",
      "|     0008| vibration|        10|2018-05-17 22:44:03|\n",
      "|     0001| vibration|        20|2018-05-17 22:44:04|\n",
      "|     0004|      temp|        10|2018-05-17 22:44:03|\n",
      "|     0003|      temp|        10|2018-05-17 22:44:04|\n",
      "|     0002|      temp|        20|2018-05-17 22:44:03|\n",
      "|     0004| vibration|        10|2018-05-17 22:44:03|\n",
      "|     0005|      temp|        18|2018-05-17 22:44:04|\n",
      "|     0007| vibration|        13|2018-05-17 22:44:04|\n",
      "|     0009| vibration|        14|2018-05-17 22:44:04|\n",
      "|     0010| vibration|        10|2018-05-17 22:44:04|\n",
      "|     0009|      temp|        14|2018-05-17 22:44:04|\n",
      "|     0008|      temp|        10|2018-05-17 22:44:03|\n",
      "|     0001|      temp|        20|2018-05-17 22:44:04|\n",
      "|     0005| vibration|        18|2018-05-17 22:44:04|\n",
      "|     0006| vibration|        11|2018-05-17 22:44:04|\n",
      "+---------+----------+----------+-------------------+\n",
      "\n",
      "CPU times: user 0 ns, sys: 4 ms, total: 4 ms\n",
      "Wall time: 911 ms\n"
     ]
    }
   ],
   "source": [
    "%%time\n",
    "sql_sc.sql(\"\"\"\n",
    "select device_id, event_type, count(*) as num_events, from_unixtime(max(timestamp)/1000) as last_timestamp\n",
    "from rawData\n",
    "group by device_id, event_type\n",
    "\"\"\").show()"
   ]
  },
  {
   "cell_type": "code",
   "execution_count": null,
   "metadata": {
    "collapsed": true
   },
   "outputs": [],
   "source": []
  }
 ],
 "metadata": {
  "kernelspec": {
   "display_name": "Python 3",
   "language": "python",
   "name": "python3"
  },
  "language_info": {
   "codemirror_mode": {
    "name": "ipython",
    "version": 3
   },
   "file_extension": ".py",
   "mimetype": "text/x-python",
   "name": "python",
   "nbconvert_exporter": "python",
   "pygments_lexer": "ipython3",
   "version": "3.6.1"
  }
 },
 "nbformat": 4,
 "nbformat_minor": 2
}
