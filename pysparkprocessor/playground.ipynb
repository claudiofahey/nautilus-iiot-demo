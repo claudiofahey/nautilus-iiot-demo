{
 "cells": [
  {
   "cell_type": "code",
   "execution_count": 33,
   "metadata": {
    "collapsed": true
   },
   "outputs": [],
   "source": [
    "import pandas as pd\n",
    "import numpy as np\n",
    "import glob\n",
    "import matplotlib.pylab as plt\n",
    "from pyspark import SparkContext, SparkConf\n",
    "from pyspark.sql import SQLContext, Row\n",
    "from pyspark.sql.types import StructType, StructField, IntegerType, TimestampType, DoubleType, StringType, LongType\n",
    "from pyspark.sql.functions import to_utc_timestamp, unix_timestamp, from_unixtime\n",
    "%matplotlib inline"
   ]
  },
  {
   "cell_type": "markdown",
   "metadata": {},
   "source": [
    "Spark must load the JARs that contain the Pravega Hadoop Connector, Pravega Client, and UTF8StringSerializer."
   ]
  },
  {
   "cell_type": "code",
   "execution_count": 2,
   "metadata": {},
   "outputs": [
    {
     "data": {
      "text/plain": [
       "<pyspark.conf.SparkConf at 0x7f1f20fd8cc0>"
      ]
     },
     "execution_count": 2,
     "metadata": {},
     "output_type": "execute_result"
    }
   ],
   "source": [
    "conf = SparkConf()\n",
    "conf.set(\"spark.jars\", \"/notebooks/work/iiotdemo-sparkprocessor-0.2.0-SNAPSHOT-all.jar\")\n",
    "conf.setMaster('local[2]')"
   ]
  },
  {
   "cell_type": "code",
   "execution_count": 23,
   "metadata": {
    "collapsed": true
   },
   "outputs": [],
   "source": [
    "sc = SparkContext.getOrCreate(conf=conf)\n",
    "sql_sc = SQLContext(sc)"
   ]
  },
  {
   "cell_type": "markdown",
   "metadata": {},
   "source": [
    "Create an RDD of strings from JSON events in a Pravega stream."
   ]
  },
  {
   "cell_type": "code",
   "execution_count": 54,
   "metadata": {
    "collapsed": true
   },
   "outputs": [],
   "source": [
    "rdd = sc.newAPIHadoopRDD(\n",
    "    inputFormatClass='io.pravega.connectors.hadoop.PravegaInputFormat',\n",
    "    keyClass='io.pravega.connectors.hadoop.EventKey',\n",
    "    valueClass='java.lang.String',\n",
    "    conf={\n",
    "        'pravega.scope': 'iot1',\n",
    "        'pravega.stream': 'data',\n",
    "        'pravega.uri': 'tcp://10.246.21.230:9090',\n",
    "        'pravega.deserializer': 'io.pravega.example.iiotdemo.sparkprocessor.UTF8StringSerializer',\n",
    "    },\n",
    ")"
   ]
  },
  {
   "cell_type": "code",
   "execution_count": 62,
   "metadata": {},
   "outputs": [
    {
     "data": {
      "text/plain": [
       "{'__class__': 'io.pravega.connectors.hadoop.EventKey',\n",
       " 'offset': 0,\n",
       " 'segment': {'__class__': 'io.pravega.client.segment.impl.Segment',\n",
       "  'scope': 'iot1',\n",
       "  'scopedName': 'iot1/data/0',\n",
       "  'scopedStreamName': 'iot1/data',\n",
       "  'segmentNumber': 0,\n",
       "  'stream': {'__class__': 'io.pravega.client.stream.impl.StreamImpl',\n",
       "   'scope': 'iot1',\n",
       "   'scopedName': 'iot1/data',\n",
       "   'streamName': 'data'},\n",
       "  'streamName': 'data'}}"
      ]
     },
     "execution_count": 62,
     "metadata": {},
     "output_type": "execute_result"
    }
   ],
   "source": [
    "rdd.keys().first()"
   ]
  },
  {
   "cell_type": "code",
   "execution_count": 60,
   "metadata": {},
   "outputs": [
    {
     "ename": "TypeError",
     "evalue": "'DataFrameReader' object is not callable",
     "output_type": "error",
     "traceback": [
      "\u001b[0;31m---------------------------------------------------------------------------\u001b[0m",
      "\u001b[0;31mTypeError\u001b[0m                                 Traceback (most recent call last)",
      "\u001b[0;32m<ipython-input-60-a857769c2cca>\u001b[0m in \u001b[0;36m<module>\u001b[0;34m()\u001b[0m\n\u001b[0;32m----> 1\u001b[0;31m \u001b[0msql_sc\u001b[0m\u001b[0;34m.\u001b[0m\u001b[0mread\u001b[0m\u001b[0;34m(\u001b[0m\u001b[0mrdd\u001b[0m\u001b[0;34m.\u001b[0m\u001b[0mkeys\u001b[0m\u001b[0;34m(\u001b[0m\u001b[0;34m)\u001b[0m\u001b[0;34m)\u001b[0m\u001b[0;34m\u001b[0m\u001b[0m\n\u001b[0m",
      "\u001b[0;31mTypeError\u001b[0m: 'DataFrameReader' object is not callable"
     ]
    }
   ],
   "source": [
    "sql_sc.read(rdd.keys())"
   ]
  },
  {
   "cell_type": "markdown",
   "metadata": {},
   "source": [
    "Read Pravega events without specifying a schema. This performs two passes on the data."
   ]
  },
  {
   "cell_type": "code",
   "execution_count": 37,
   "metadata": {},
   "outputs": [
    {
     "name": "stdout",
     "output_type": "stream",
     "text": [
      "+---------+----------+-----------+------------------+-------------+------------------+-----------------+\n",
      "|device_id|event_type|remote_addr|      temp_celsius|    timestamp|        vibration1|       vibration2|\n",
      "+---------+----------+-----------+------------------+-------------+------------------+-----------------+\n",
      "|     0002|      temp|  127.0.0.1|23.447554062011953|1526594516113|              null|             null|\n",
      "|     0001|      temp|  127.0.0.1| 37.22421743210678|1526594516112|              null|             null|\n",
      "|     0002| vibration|  127.0.0.1|              null|1526594516113|2965.9755406201193|6031.951081240239|\n",
      "|     0001| vibration|  127.0.0.1|              null|1526594516112| 3103.742174321068|6307.484348642136|\n",
      "|     0002|      temp|  127.0.0.1| 23.39155667180122|1526594517127|              null|             null|\n",
      "|     0002| vibration|  127.0.0.1|              null|1526594517127|2965.4155667180116|6030.831133436023|\n",
      "|     0001|      temp|  127.0.0.1| 37.14044473638414|1526594517437|              null|             null|\n",
      "|     0001| vibration|  127.0.0.1|              null|1526594517437|3102.9044473638414|6305.808894727683|\n",
      "|     0002|      temp|  127.0.0.1|23.339366447471768|1526594518141|              null|             null|\n",
      "|     0002| vibration|  127.0.0.1|              null|1526594518141|2964.8936644747173|6029.787328949435|\n",
      "|     0001|      temp|  127.0.0.1| 37.07423386711112|1526594518762|              null|             null|\n",
      "|     0001| vibration|  127.0.0.1|              null|1526594518762|3102.2423386711107|6304.484677342221|\n",
      "|     0002|      temp|  127.0.0.1|23.290990950746018|1526594519155|              null|             null|\n",
      "|     0002| vibration|  127.0.0.1|              null|1526594519155|  2964.40990950746| 6028.81981901492|\n",
      "|     0001|      temp|  127.0.0.1| 37.02570011068423|1526594520087|              null|             null|\n",
      "|     0001| vibration|  127.0.0.1|              null|1526594520087| 3101.757001106842|6303.514002213684|\n",
      "|     0002|      temp|  127.0.0.1|23.246437283613528|1526594520169|              null|             null|\n",
      "|     0002| vibration|  127.0.0.1|              null|1526594520169| 2963.964372836135| 6027.92874567227|\n",
      "|     0002|      temp|  127.0.0.1| 70.98551354239365|1526597031016|              null|             null|\n",
      "|     0009|      temp|  127.0.0.1| 39.54021451739752|1526597031021|              null|             null|\n",
      "+---------+----------+-----------+------------------+-------------+------------------+-----------------+\n",
      "only showing top 20 rows\n",
      "\n",
      "CPU times: user 20 ms, sys: 0 ns, total: 20 ms\n",
      "Wall time: 38.3 s\n"
     ]
    }
   ],
   "source": [
    "%%time\n",
    "df = sql_sc.read.json(rdd.values())\n",
    "df.show()"
   ]
  },
  {
   "cell_type": "markdown",
   "metadata": {},
   "source": [
    "View the generated schema."
   ]
  },
  {
   "cell_type": "code",
   "execution_count": 38,
   "metadata": {},
   "outputs": [
    {
     "data": {
      "text/plain": [
       "StructType(List(StructField(device_id,StringType,true),StructField(event_type,StringType,true),StructField(remote_addr,StringType,true),StructField(temp_celsius,DoubleType,true),StructField(timestamp,LongType,true),StructField(vibration1,DoubleType,true),StructField(vibration2,DoubleType,true)))"
      ]
     },
     "execution_count": 38,
     "metadata": {},
     "output_type": "execute_result"
    }
   ],
   "source": [
    "df.schema"
   ]
  },
  {
   "cell_type": "markdown",
   "metadata": {},
   "source": [
    "Read Pravega events with a schema. We also cache the result in memory."
   ]
  },
  {
   "cell_type": "code",
   "execution_count": 39,
   "metadata": {},
   "outputs": [
    {
     "name": "stdout",
     "output_type": "stream",
     "text": [
      "+-------------+----------+---------+------------------+------------------+-----------------+\n",
      "|    timestamp|event_type|device_id|      temp_celsius|        vibration1|       vibration2|\n",
      "+-------------+----------+---------+------------------+------------------+-----------------+\n",
      "|1526594516113|      temp|     0002|23.447554062011953|              null|             null|\n",
      "|1526594516112|      temp|     0001| 37.22421743210678|              null|             null|\n",
      "|1526594516113| vibration|     0002|              null|2965.9755406201193|6031.951081240239|\n",
      "|1526594516112| vibration|     0001|              null| 3103.742174321068|6307.484348642136|\n",
      "|1526594517127|      temp|     0002| 23.39155667180122|              null|             null|\n",
      "|1526594517127| vibration|     0002|              null|2965.4155667180116|6030.831133436023|\n",
      "|1526594517437|      temp|     0001| 37.14044473638414|              null|             null|\n",
      "|1526594517437| vibration|     0001|              null|3102.9044473638414|6305.808894727683|\n",
      "|1526594518141|      temp|     0002|23.339366447471768|              null|             null|\n",
      "|1526594518141| vibration|     0002|              null|2964.8936644747173|6029.787328949435|\n",
      "|1526594518762|      temp|     0001| 37.07423386711112|              null|             null|\n",
      "|1526594518762| vibration|     0001|              null|3102.2423386711107|6304.484677342221|\n",
      "|1526594519155|      temp|     0002|23.290990950746018|              null|             null|\n",
      "|1526594519155| vibration|     0002|              null|  2964.40990950746| 6028.81981901492|\n",
      "|1526594520087|      temp|     0001| 37.02570011068423|              null|             null|\n",
      "|1526594520087| vibration|     0001|              null| 3101.757001106842|6303.514002213684|\n",
      "|1526594520169|      temp|     0002|23.246437283613528|              null|             null|\n",
      "|1526594520169| vibration|     0002|              null| 2963.964372836135| 6027.92874567227|\n",
      "|1526597031016|      temp|     0002| 70.98551354239365|              null|             null|\n",
      "|1526597031021|      temp|     0009| 39.54021451739752|              null|             null|\n",
      "+-------------+----------+---------+------------------+------------------+-----------------+\n",
      "only showing top 20 rows\n",
      "\n",
      "CPU times: user 16 ms, sys: 4 ms, total: 20 ms\n",
      "Wall time: 41.2 s\n"
     ]
    }
   ],
   "source": [
    "%%time\n",
    "schema = StructType([\n",
    "        StructField('timestamp', LongType(), True),\n",
    "        StructField('event_type', StringType(), True),\n",
    "        StructField('device_id', StringType(), True),\n",
    "        StructField('temp_celsius', DoubleType(), True),\n",
    "        StructField('vibration1', DoubleType(), True),\n",
    "        StructField('vibration2', DoubleType(), True),\n",
    "    ])\n",
    "df = sql_sc.read.schema(schema).json(rdd.values()).cache()\n",
    "df.show()"
   ]
  },
  {
   "cell_type": "code",
   "execution_count": 26,
   "metadata": {},
   "outputs": [
    {
     "name": "stdout",
     "output_type": "stream",
     "text": [
      "+-------------+----------+---------+------------------+----------+----------+\n",
      "|    timestamp|event_type|device_id|      temp_celsius|vibration1|vibration2|\n",
      "+-------------+----------+---------+------------------+----------+----------+\n",
      "|1526594516113|      temp|     0002|23.447554062011953|      null|      null|\n",
      "|1526594516112|      temp|     0001| 37.22421743210678|      null|      null|\n",
      "|1526594517127|      temp|     0002| 23.39155667180122|      null|      null|\n",
      "|1526594517437|      temp|     0001| 37.14044473638414|      null|      null|\n",
      "|1526594518141|      temp|     0002|23.339366447471768|      null|      null|\n",
      "|1526594518762|      temp|     0001| 37.07423386711112|      null|      null|\n",
      "|1526594519155|      temp|     0002|23.290990950746018|      null|      null|\n",
      "|1526594520087|      temp|     0001| 37.02570011068423|      null|      null|\n",
      "|1526594520169|      temp|     0002|23.246437283613528|      null|      null|\n",
      "|1526597031016|      temp|     0002| 70.98551354239365|      null|      null|\n",
      "|1526597031021|      temp|     0009| 39.54021451739752|      null|      null|\n",
      "|1526597031016|      temp|     0004| 58.03818322703725|      null|      null|\n",
      "|1526597031014|      temp|     0001|39.355869573704155|      null|      null|\n",
      "|1526597031019|      temp|     0008| 39.93835439553209|      null|      null|\n",
      "|1526597031026|      temp|     0010| 53.74105633297774|      null|      null|\n",
      "|1526597031015|      temp|     0003| 41.06975530289519|      null|      null|\n",
      "|1526597031021|      temp|     0005| 87.65137830175256|      null|      null|\n",
      "|1526597031018|      temp|     0007| 71.65014086976235|      null|      null|\n",
      "|1526597031021|      temp|     0006| 75.65557506983552|      null|      null|\n",
      "|1526597031808|      temp|     0005| 87.32559106554056|      null|      null|\n",
      "+-------------+----------+---------+------------------+----------+----------+\n",
      "only showing top 20 rows\n",
      "\n"
     ]
    }
   ],
   "source": [
    "df.filter('event_type=\"temp\"').show()"
   ]
  },
  {
   "cell_type": "code",
   "execution_count": 40,
   "metadata": {},
   "outputs": [
    {
     "data": {
      "text/plain": [
       "1525506"
      ]
     },
     "execution_count": 40,
     "metadata": {},
     "output_type": "execute_result"
    }
   ],
   "source": [
    "df.count()"
   ]
  },
  {
   "cell_type": "code",
   "execution_count": 28,
   "metadata": {},
   "outputs": [
    {
     "name": "stdout",
     "output_type": "stream",
     "text": [
      "+-------------+----------+---------+------------------+------------------+-----------------+-------------------+\n",
      "|    timestamp|event_type|device_id|      temp_celsius|        vibration1|       vibration2|      timestamp_str|\n",
      "+-------------+----------+---------+------------------+------------------+-----------------+-------------------+\n",
      "|1526594516113|      temp|     0002|23.447554062011953|              null|             null|2018-05-17 22:01:56|\n",
      "|1526594516112|      temp|     0001| 37.22421743210678|              null|             null|2018-05-17 22:01:56|\n",
      "|1526594516113| vibration|     0002|              null|2965.9755406201193|6031.951081240239|2018-05-17 22:01:56|\n",
      "|1526594516112| vibration|     0001|              null| 3103.742174321068|6307.484348642136|2018-05-17 22:01:56|\n",
      "|1526594517127|      temp|     0002| 23.39155667180122|              null|             null|2018-05-17 22:01:57|\n",
      "|1526594517127| vibration|     0002|              null|2965.4155667180116|6030.831133436023|2018-05-17 22:01:57|\n",
      "|1526594517437|      temp|     0001| 37.14044473638414|              null|             null|2018-05-17 22:01:57|\n",
      "|1526594517437| vibration|     0001|              null|3102.9044473638414|6305.808894727683|2018-05-17 22:01:57|\n",
      "|1526594518141|      temp|     0002|23.339366447471768|              null|             null|2018-05-17 22:01:58|\n",
      "|1526594518141| vibration|     0002|              null|2964.8936644747173|6029.787328949435|2018-05-17 22:01:58|\n",
      "|1526594518762|      temp|     0001| 37.07423386711112|              null|             null|2018-05-17 22:01:58|\n",
      "|1526594518762| vibration|     0001|              null|3102.2423386711107|6304.484677342221|2018-05-17 22:01:58|\n",
      "|1526594519155|      temp|     0002|23.290990950746018|              null|             null|2018-05-17 22:01:59|\n",
      "|1526594519155| vibration|     0002|              null|  2964.40990950746| 6028.81981901492|2018-05-17 22:01:59|\n",
      "|1526594520087|      temp|     0001| 37.02570011068423|              null|             null|2018-05-17 22:02:00|\n",
      "|1526594520087| vibration|     0001|              null| 3101.757001106842|6303.514002213684|2018-05-17 22:02:00|\n",
      "|1526594520169|      temp|     0002|23.246437283613528|              null|             null|2018-05-17 22:02:00|\n",
      "|1526594520169| vibration|     0002|              null| 2963.964372836135| 6027.92874567227|2018-05-17 22:02:00|\n",
      "|1526597031016|      temp|     0002| 70.98551354239365|              null|             null|2018-05-17 22:43:51|\n",
      "|1526597031021|      temp|     0009| 39.54021451739752|              null|             null|2018-05-17 22:43:51|\n",
      "+-------------+----------+---------+------------------+------------------+-----------------+-------------------+\n",
      "only showing top 20 rows\n",
      "\n"
     ]
    }
   ],
   "source": [
    "df = df.withColumn('timestamp_str', from_unixtime(df['timestamp'] / 1000.0))\n",
    "df.show()"
   ]
  },
  {
   "cell_type": "code",
   "execution_count": 29,
   "metadata": {},
   "outputs": [
    {
     "name": "stdout",
     "output_type": "stream",
     "text": [
      "+-------------+----------+---------+------------------+------------------+-----------------+-------------------+\n",
      "|    timestamp|event_type|device_id|      temp_celsius|        vibration1|       vibration2|      timestamp_str|\n",
      "+-------------+----------+---------+------------------+------------------+-----------------+-------------------+\n",
      "|1526594516112|      temp|     0001| 37.22421743210678|              null|             null|2018-05-17 22:01:56|\n",
      "|1526594516112| vibration|     0001|              null| 3103.742174321068|6307.484348642136|2018-05-17 22:01:56|\n",
      "|1526594516113|      temp|     0002|23.447554062011953|              null|             null|2018-05-17 22:01:56|\n",
      "|1526594516113| vibration|     0002|              null|2965.9755406201193|6031.951081240239|2018-05-17 22:01:56|\n",
      "|1526594517127|      temp|     0002| 23.39155667180122|              null|             null|2018-05-17 22:01:57|\n",
      "|1526594517127| vibration|     0002|              null|2965.4155667180116|6030.831133436023|2018-05-17 22:01:57|\n",
      "|1526594517437|      temp|     0001| 37.14044473638414|              null|             null|2018-05-17 22:01:57|\n",
      "|1526594517437| vibration|     0001|              null|3102.9044473638414|6305.808894727683|2018-05-17 22:01:57|\n",
      "|1526594518141|      temp|     0002|23.339366447471768|              null|             null|2018-05-17 22:01:58|\n",
      "|1526594518141| vibration|     0002|              null|2964.8936644747173|6029.787328949435|2018-05-17 22:01:58|\n",
      "|1526594518762| vibration|     0001|              null|3102.2423386711107|6304.484677342221|2018-05-17 22:01:58|\n",
      "|1526594518762|      temp|     0001| 37.07423386711112|              null|             null|2018-05-17 22:01:58|\n",
      "|1526594519155|      temp|     0002|23.290990950746018|              null|             null|2018-05-17 22:01:59|\n",
      "|1526594519155| vibration|     0002|              null|  2964.40990950746| 6028.81981901492|2018-05-17 22:01:59|\n",
      "|1526594520087|      temp|     0001| 37.02570011068423|              null|             null|2018-05-17 22:02:00|\n",
      "|1526594520087| vibration|     0001|              null| 3101.757001106842|6303.514002213684|2018-05-17 22:02:00|\n",
      "|1526594520169| vibration|     0002|              null| 2963.964372836135| 6027.92874567227|2018-05-17 22:02:00|\n",
      "|1526594520169|      temp|     0002|23.246437283613528|              null|             null|2018-05-17 22:02:00|\n",
      "|1526597031014|      temp|     0001|39.355869573704155|              null|             null|2018-05-17 22:43:51|\n",
      "|1526597031014| vibration|     0001|              null| 3125.058695737041|6350.117391474082|2018-05-17 22:43:51|\n",
      "+-------------+----------+---------+------------------+------------------+-----------------+-------------------+\n",
      "only showing top 20 rows\n",
      "\n"
     ]
    }
   ],
   "source": [
    "df.sort('timestamp').show()"
   ]
  },
  {
   "cell_type": "code",
   "execution_count": 41,
   "metadata": {
    "collapsed": true
   },
   "outputs": [],
   "source": [
    "sql_sc.registerDataFrameAsTable(df, 'rawData')"
   ]
  },
  {
   "cell_type": "markdown",
   "metadata": {},
   "source": [
    "Run SQL queries."
   ]
  },
  {
   "cell_type": "code",
   "execution_count": 42,
   "metadata": {},
   "outputs": [
    {
     "name": "stdout",
     "output_type": "stream",
     "text": [
      "+-------------+----------+---------+------------+------------------+------------------+\n",
      "|    timestamp|event_type|device_id|temp_celsius|        vibration1|        vibration2|\n",
      "+-------------+----------+---------+------------+------------------+------------------+\n",
      "|1526651598453| vibration|     0005|        null| 3644.857966779092| 7389.715933558184|\n",
      "|1526646018623| vibration|     0005|        null|  3644.85796641069|  7389.71593282138|\n",
      "|1526657178283| vibration|     0005|        null|3644.8579659159623|7389.7159318319245|\n",
      "|1526640438793| vibration|     0005|        null|3644.8579648107557| 7389.715929621511|\n",
      "|1526662758113| vibration|     0005|        null|3644.8579638209594| 7389.715927641919|\n",
      "|1526634858963| vibration|     0005|        null| 3644.857961978856| 7389.715923957712|\n",
      "|1526668337943| vibration|     0005|        null|3644.8579604946103| 7389.715920989221|\n",
      "|1526629279133| vibration|     0005|        null| 3644.857957915703| 7389.715915831406|\n",
      "|1526673917773| vibration|     0005|        null|  3644.85795593673|  7389.71591187346|\n",
      "|1526623699303| vibration|     0005|        null|3644.8579526210187|7389.7159052420375|\n",
      "|1526679497603| vibration|     0005|        null| 3644.857950147317| 7389.715900294634|\n",
      "|1526618119473| vibration|     0005|        null| 3644.857946094802| 7389.715892189604|\n",
      "|1526600409612| vibration|     0005|        null|3644.8579446643807|7389.7158893287615|\n",
      "|1526612539643| vibration|     0005|        null|3644.8579383359993| 7389.715876671999|\n",
      "|1526605989442| vibration|     0005|        null|  3644.85793666301|  7389.71587332602|\n",
      "|1526606959813| vibration|     0005|        null|3644.8579293465637| 7389.715858693127|\n",
      "|1526611569272| vibration|     0005|        null|3644.8579274310373| 7389.715854862075|\n",
      "|1526601379983| vibration|     0005|        null|3644.8579191255967| 7389.715838251193|\n",
      "|1526617149102| vibration|     0005|        null| 3644.857916967533| 7389.715833935066|\n",
      "|1526680467974| vibration|     0005|        null|3644.8579101185896| 7389.715820237179|\n",
      "+-------------+----------+---------+------------+------------------+------------------+\n",
      "only showing top 20 rows\n",
      "\n"
     ]
    }
   ],
   "source": [
    "sql_sc.sql('select * from rawData where event_type=\"vibration\" order by vibration2 desc').show()"
   ]
  },
  {
   "cell_type": "code",
   "execution_count": 44,
   "metadata": {},
   "outputs": [
    {
     "name": "stdout",
     "output_type": "stream",
     "text": [
      "+---------+----------+----------+-------------------+\n",
      "|device_id|event_type|num_events|     last_timestamp|\n",
      "+---------+----------+----------+-------------------+\n",
      "|     0003| vibration|     58719|2018-05-18 22:20:54|\n",
      "|     0002| vibration|     93132|2018-05-18 22:20:55|\n",
      "|     0006|      temp|     64170|2018-05-18 22:20:54|\n",
      "|     0007|      temp|     77933|2018-05-18 22:20:54|\n",
      "|     0010|      temp|     58557|2018-05-18 22:20:54|\n",
      "|     0008| vibration|     61301|2018-05-18 22:20:54|\n",
      "|     0001| vibration|     97064|2018-05-18 22:20:54|\n",
      "|     0004|      temp|     61612|2018-05-18 22:20:54|\n",
      "|     0003|      temp|     58719|2018-05-18 22:20:54|\n",
      "|     0002|      temp|     93132|2018-05-18 22:20:55|\n",
      "|     0004| vibration|     61612|2018-05-18 22:20:54|\n",
      "|     0005|      temp|    108036|2018-05-18 22:20:54|\n",
      "|     0007| vibration|     77933|2018-05-18 22:20:54|\n",
      "|     0009| vibration|     82229|2018-05-18 22:20:54|\n",
      "|     0010| vibration|     58557|2018-05-18 22:20:54|\n",
      "|     0009|      temp|     82229|2018-05-18 22:20:54|\n",
      "|     0008|      temp|     61301|2018-05-18 22:20:54|\n",
      "|     0001|      temp|     97064|2018-05-18 22:20:54|\n",
      "|     0005| vibration|    108036|2018-05-18 22:20:54|\n",
      "|     0006| vibration|     64170|2018-05-18 22:20:54|\n",
      "+---------+----------+----------+-------------------+\n",
      "\n",
      "CPU times: user 0 ns, sys: 4 ms, total: 4 ms\n",
      "Wall time: 1.52 s\n"
     ]
    }
   ],
   "source": [
    "%%time\n",
    "sql_sc.sql(\"\"\"\n",
    "select device_id, event_type, count(*) as num_events, from_unixtime(max(timestamp)/1000) as last_timestamp\n",
    "from rawData\n",
    "group by device_id, event_type\n",
    "\"\"\").show()"
   ]
  },
  {
   "cell_type": "code",
   "execution_count": 46,
   "metadata": {},
   "outputs": [],
   "source": [
    "sdf = sql_sc.sql('select * from rawData where event_type=\"vibration\" order by vibration2 desc')"
   ]
  },
  {
   "cell_type": "code",
   "execution_count": 48,
   "metadata": {},
   "outputs": [
    {
     "data": {
      "text/html": [
       "<div>\n",
       "<style>\n",
       "    .dataframe thead tr:only-child th {\n",
       "        text-align: right;\n",
       "    }\n",
       "\n",
       "    .dataframe thead th {\n",
       "        text-align: left;\n",
       "    }\n",
       "\n",
       "    .dataframe tbody tr th {\n",
       "        vertical-align: top;\n",
       "    }\n",
       "</style>\n",
       "<table border=\"1\" class=\"dataframe\">\n",
       "  <thead>\n",
       "    <tr style=\"text-align: right;\">\n",
       "      <th></th>\n",
       "      <th>timestamp</th>\n",
       "      <th>event_type</th>\n",
       "      <th>device_id</th>\n",
       "      <th>temp_celsius</th>\n",
       "      <th>vibration1</th>\n",
       "      <th>vibration2</th>\n",
       "    </tr>\n",
       "  </thead>\n",
       "  <tbody>\n",
       "    <tr>\n",
       "      <th>0</th>\n",
       "      <td>1526651598453</td>\n",
       "      <td>vibration</td>\n",
       "      <td>0005</td>\n",
       "      <td>None</td>\n",
       "      <td>3644.857967</td>\n",
       "      <td>7389.715934</td>\n",
       "    </tr>\n",
       "    <tr>\n",
       "      <th>1</th>\n",
       "      <td>1526646018623</td>\n",
       "      <td>vibration</td>\n",
       "      <td>0005</td>\n",
       "      <td>None</td>\n",
       "      <td>3644.857966</td>\n",
       "      <td>7389.715933</td>\n",
       "    </tr>\n",
       "    <tr>\n",
       "      <th>2</th>\n",
       "      <td>1526657178283</td>\n",
       "      <td>vibration</td>\n",
       "      <td>0005</td>\n",
       "      <td>None</td>\n",
       "      <td>3644.857966</td>\n",
       "      <td>7389.715932</td>\n",
       "    </tr>\n",
       "    <tr>\n",
       "      <th>3</th>\n",
       "      <td>1526640438793</td>\n",
       "      <td>vibration</td>\n",
       "      <td>0005</td>\n",
       "      <td>None</td>\n",
       "      <td>3644.857965</td>\n",
       "      <td>7389.715930</td>\n",
       "    </tr>\n",
       "    <tr>\n",
       "      <th>4</th>\n",
       "      <td>1526662758113</td>\n",
       "      <td>vibration</td>\n",
       "      <td>0005</td>\n",
       "      <td>None</td>\n",
       "      <td>3644.857964</td>\n",
       "      <td>7389.715928</td>\n",
       "    </tr>\n",
       "  </tbody>\n",
       "</table>\n",
       "</div>"
      ],
      "text/plain": [
       "       timestamp event_type device_id temp_celsius   vibration1   vibration2\n",
       "0  1526651598453  vibration      0005         None  3644.857967  7389.715934\n",
       "1  1526646018623  vibration      0005         None  3644.857966  7389.715933\n",
       "2  1526657178283  vibration      0005         None  3644.857966  7389.715932\n",
       "3  1526640438793  vibration      0005         None  3644.857965  7389.715930\n",
       "4  1526662758113  vibration      0005         None  3644.857964  7389.715928"
      ]
     },
     "execution_count": 48,
     "metadata": {},
     "output_type": "execute_result"
    }
   ],
   "source": [
    "df = sdf.toPandas()\n",
    "df.head()"
   ]
  },
  {
   "cell_type": "code",
   "execution_count": 53,
   "metadata": {},
   "outputs": [
    {
     "data": {
      "text/plain": [
       "<matplotlib.axes._subplots.AxesSubplot at 0x7f1eeb787160>"
      ]
     },
     "execution_count": 53,
     "metadata": {},
     "output_type": "execute_result"
    },
    {
     "data": {
      "image/png": "[encoded data removed]",
      "text/plain": [
       "<matplotlib.figure.Figure at 0x7f1ee3a93d68>"
      ]
     },
     "metadata": {},
     "output_type": "display_data"
    }
   ],
   "source": [
    "df[['vibration1','vibration2']].plot()"
   ]
  },
  {
   "cell_type": "code",
   "execution_count": null,
   "metadata": {
    "collapsed": true
   },
   "outputs": [],
   "source": []
  }
 ],
 "metadata": {
  "kernelspec": {
   "display_name": "Python 3",
   "language": "python",
   "name": "python3"
  },
  "language_info": {
   "codemirror_mode": {
    "name": "ipython",
    "version": 3
   },
   "file_extension": ".py",
   "mimetype": "text/x-python",
   "name": "python",
   "nbconvert_exporter": "python",
   "pygments_lexer": "ipython3",
   "version": "3.6.1"
  }
 },
 "nbformat": 4,
 "nbformat_minor": 2
}
